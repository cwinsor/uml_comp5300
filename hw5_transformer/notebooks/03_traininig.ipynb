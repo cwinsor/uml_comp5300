{
 "cells": [
  {
   "cell_type": "code",
   "execution_count": 1,
   "metadata": {},
   "outputs": [
    {
     "name": "stdout",
     "output_type": "stream",
     "text": [
      "host is traditional server\n"
     ]
    }
   ],
   "source": [
    "import sys\n",
    "\n",
    "import numpy as np\n",
    "\n",
    "import torch\n",
    "import torch.nn as nn\n",
    "import torch.nn.functional as F\n",
    "import torch.utils.data\n",
    "\n",
    "if 'google.colab' in sys.modules:\n",
    "    print(\"host is colab\")\n",
    "    !git clone --quiet https://github.com/cwinsor/uml_comp5300.git\n",
    "    sys.path.append('/content/uml_comp5300/hw5_transformer/')  # make sure we can import transformer_lm\n",
    "else:\n",
    "    print(\"host is traditional server\")\n",
    "    sys.path.append('../')  # make sure we can import transformer_lm"
   ]
  },
  {
   "attachments": {},
   "cell_type": "markdown",
   "metadata": {},
   "source": [
    "# Training a transformer language model\n",
    "\n",
    "In this notebook, we will learn how to\n",
    "\n",
    "1. preprocess data for language modeling\n",
    "2. use `torch.utils.data` to handle batching in an efficient and standard way\n",
    "3. train a transformer language model\n",
    "\n",
    "Specifically, we will use the Tiny Shakespeare dataset, which contains the complete works of William Shakespeare, to train a language model. The goal of this notebook is to walk you through the steps of pre-processing the dataset and preparing it for training using the PyTorch DataLoader, creating a language model, training it and using it to generate text.\n",
    "\n",
    "We will train a character-based langauge model instead of word-based, because:\n",
    "\n",
    "1. It's faster to train it to the point that it can generate text\n",
    "2. We don't want to complicate the homework with BPE tokenization\n",
    "3. We work with a small dataset which might not be enough to train a word-based language model\n",
    "\n",
    "> Feel free to try training a word-based language model on a larger dataset, such as the WikiText-2 dataset, which is available in the hugginface datasets library.\n",
    "\n",
    "# Step 1: Load and Explore the Dataset\n",
    "The first step is to load the dataset and explore it. In this example, we will use the Tiny Shakespeare dataset, which contains the complete works of William Shakespeare. We can download the dataset from the following URL: https://raw.githubusercontent.com/karpathy/char-rnn/master/data/tinyshakespeare/input.txt\n",
    "\n",
    "Feel free to use `wget` to download the dataset or just download the file manually and upload it to your Colab instance.\n",
    "\n",
    "Here's how you can use `wget` to download the dataset:\n",
    "```\n",
    "!wget https://raw.githubusercontent.com/karpathy/char-rnn/master/data/tinyshakespeare/input.txt -O tiny_shakespeare.txt\n",
    "```"
   ]
  },
  {
   "cell_type": "code",
   "execution_count": 2,
   "metadata": {},
   "outputs": [
    {
     "name": "stdout",
     "output_type": "stream",
     "text": [
      "Requirement already satisfied: wget in c:\\users\\chris\\anaconda3\\envs\\pytorch_c_cuda_11_7\\lib\\site-packages (3.2)\n"
     ]
    },
    {
     "ename": "FileExistsError",
     "evalue": "[WinError 183] Cannot create a file when that file already exists: 'input.txt' -> 'tiny_shakespeare.txt'",
     "output_type": "error",
     "traceback": [
      "\u001b[1;31m---------------------------------------------------------------------------\u001b[0m",
      "\u001b[1;31mFileExistsError\u001b[0m                           Traceback (most recent call last)",
      "\u001b[1;32mg:\\My Drive\\code_uml\\uml_comp5300\\hw5_transformer\\notebooks\\03_traininig.ipynb Cell 3\u001b[0m in \u001b[0;36m<cell line: 5>\u001b[1;34m()\u001b[0m\n\u001b[0;32m      <a href='vscode-notebook-cell:/g%3A/My%20Drive/code_uml/uml_comp5300/hw5_transformer/notebooks/03_traininig.ipynb#W2sZmlsZQ%3D%3D?line=2'>3</a>\u001b[0m \u001b[39mimport\u001b[39;00m \u001b[39mos\u001b[39;00m\n\u001b[0;32m      <a href='vscode-notebook-cell:/g%3A/My%20Drive/code_uml/uml_comp5300/hw5_transformer/notebooks/03_traininig.ipynb#W2sZmlsZQ%3D%3D?line=3'>4</a>\u001b[0m wget\u001b[39m.\u001b[39mdownload(\u001b[39m'\u001b[39m\u001b[39mhttps://raw.githubusercontent.com/karpathy/char-rnn/master/data/tinyshakespeare/input.txt\u001b[39m\u001b[39m'\u001b[39m)\n\u001b[1;32m----> <a href='vscode-notebook-cell:/g%3A/My%20Drive/code_uml/uml_comp5300/hw5_transformer/notebooks/03_traininig.ipynb#W2sZmlsZQ%3D%3D?line=4'>5</a>\u001b[0m os\u001b[39m.\u001b[39;49mrename(\u001b[39m'\u001b[39;49m\u001b[39minput.txt\u001b[39;49m\u001b[39m'\u001b[39;49m, \u001b[39m'\u001b[39;49m\u001b[39mtiny_shakespeare.txt\u001b[39;49m\u001b[39m'\u001b[39;49m)\n",
      "\u001b[1;31mFileExistsError\u001b[0m: [WinError 183] Cannot create a file when that file already exists: 'input.txt' -> 'tiny_shakespeare.txt'"
     ]
    }
   ],
   "source": [
    "!pip install wget\n",
    "import wget\n",
    "import os\n",
    "wget.download('https://raw.githubusercontent.com/karpathy/char-rnn/master/data/tinyshakespeare/input.txt')\n",
    "os.rename('input.txt', 'tiny_shakespeare.txt')"
   ]
  },
  {
   "attachments": {},
   "cell_type": "markdown",
   "metadata": {},
   "source": [
    "## Coding task 3.1: load the data and take a look\n",
    "\n",
    "Read the file to a variable named `raw_data` and print the first 1000 characters.\n",
    "\n",
    "### Grading criteria\n",
    "**(1 point max)**\n",
    "\n",
    "1 point if everything works"
   ]
  },
  {
   "cell_type": "code",
   "execution_count": 3,
   "metadata": {},
   "outputs": [
    {
     "name": "stdout",
     "output_type": "stream",
     "text": [
      "First Citizen:\n",
      "Before we proceed any further, hear me speak.\n",
      "\n",
      "All:\n",
      "Speak, speak.\n",
      "\n",
      "First Citizen:\n",
      "You are all resolved rather to die than to famish?\n",
      "\n",
      "All:\n",
      "Resolved. resolved.\n",
      "\n",
      "First Citizen:\n",
      "First, you know Caius Marcius is chief enemy to the people.\n",
      "\n",
      "All:\n",
      "We know't, we know't.\n",
      "\n",
      "First Citizen:\n",
      "Let us kill him, and we'll have corn at our own price.\n",
      "Is't a verdict?\n",
      "\n",
      "All:\n",
      "No more talking on't; let it be done: away, away!\n",
      "\n",
      "Second Citizen:\n",
      "One word, good citizens.\n",
      "\n",
      "First Citizen:\n",
      "We are accounted poor citizens, the patricians good.\n",
      "What authority surfeits on would relieve us: if they\n",
      "would yield us but the superfluity, while it were\n",
      "wholesome, we might guess they relieved us humanely;\n",
      "but they think we are too dear: the leanness that\n",
      "afflicts us, the object of our misery, is as an\n",
      "inventory to particularise their abundance; our\n",
      "sufferance is a gain to them Let us revenge this with\n",
      "our pikes, ere we become rakes: for the gods know I\n",
      "speak this in hunger for bread, not in thirst for revenge.\n",
      "\n",
      "\n"
     ]
    }
   ],
   "source": [
    "with open(\"tiny_shakespeare.txt\", \"r\") as f:\n",
    "    raw_data = f.read()\n",
    "\n",
    "print(raw_data[:1000])"
   ]
  },
  {
   "attachments": {},
   "cell_type": "markdown",
   "metadata": {},
   "source": [
    "## Inline question 3.1: raw text preprocessing\n",
    "**(1 point max, 1 extra point for creative ideas)**\n",
    "\n",
    "Think about how you can pre-process the data (in terms of modifying the text). Provde three ideas and explain why you think they are useful or not. Think about the size of the data, tokenization method (we will use character-level language model), your computational resources, and what kind of text you want to generate. Make this answer as extensive as possible.\n",
    "\n",
    "***Your answer:***\n",
    "\n",
    "1) The conversational format (\"SPEAKER:\\n\") is significant and should be preserved. So (my opinion) keep the uppercase and all punctuation. Even with this the vocabulary will be small (about 200) because there's no hashtags or URLs.\n",
    "\n",
    "2) No stemming, lemmitization, stop-word required.\n",
    "\n",
    "3) \"n-gram\" not required as the transformer is already looking at sequences.\n",
    "\n",
    "4) Another option that would be interesting is Latent Dirichlet Allocation (LDA) (Blei et al., 2003). LDA is a technique used to compare objects that are comprised of a variable number of components. LDA is a general technique and can be applied in many domains. LDA is the extension of the Beta distribution to multinominal variable. It assumes components in an object are drawn from a multinominal distribution with each document sampled from the same vocabulary but with different proportions.\n",
    "As applied to documents the objective is to allow comparing documents to one-another and to document sets. It is a 3-level probabilistic model consisting of words, documents and topics. An experiment is the drawing of a document, and the random variables are first a collection of one or more topics, and second a topic is comprised of (a distribution over) a set of words that is the vocabulary. The model differs from the earlier unigram, mixture of unigrams and pLSI/aspect models because it expresses a document as one or more topics, where the earlier models express a document directly as terms without a per-document topic distribution.\n",
    "\n",
    "5) Encoding is the process of transforming the sequence of tokens into sequences of numbers. This can be a simple dictionary lookup or can be more sophisticated. For example byte-pair encoding (Sennrich) works by iteratively combining recurring adjacent pairs into a single code. The result is that common token-pairs are represented as a single code and rare words are a sequence of sub-word codes. In choosing an encoding scheme the tradeoff is between codebook size vs sequence length - a larger codebook correlates to shorter encoded sequences and vice-versa.\n"
   ]
  },
  {
   "attachments": {},
   "cell_type": "markdown",
   "metadata": {},
   "source": [
    "# Step 2: preparing the data for the model\n",
    "\n",
    "## Coding task 3.2\n",
    "Similar to previous homeworks, where we made a vocabualry of words, we will make a vocabulary of characters.\n",
    "\n",
    "1. Make a vocabulary of all characters\n",
    "2. Make `char2idx`\n",
    "3. Make a class `Tokenizer` that stores `char2idx` and has two methods: `encode` and `decode` that encode and decode text using `char2idx` and `idx2char` dictionaries.\n",
    "   * You might find it useful to create `idx2char` dictionary inside the `__init__` method of the `Tokenizer` class.\n",
    "4. Create a `Tokenizer` object\n",
    "5. Convert the text to a list of integers using `char2idx`, assign it to a variable named `data`\n",
    "6. Print the first 100 items of `data`\n",
    "\n",
    "It's useful to have a function that converts a sequence of indices to a string. You will need it to convert the output of the model to a text when you will be generating text, but is it also very useful for **debugging** your pre-processing code.\n",
    "\n",
    "### Grading criteria\n",
    "**(2 points max)**\n",
    "\n",
    "1. 1 point for `char2idx` dictionary\n",
    "2. 1 point for `Tokenizer` class that passes the tests below"
   ]
  },
  {
   "cell_type": "code",
   "execution_count": 4,
   "metadata": {},
   "outputs": [
    {
     "name": "stdout",
     "output_type": "stream",
     "text": [
      "vocab_size 65\n"
     ]
    }
   ],
   "source": [
    "# YOUR CODE STARTS HERE (our implementation is about 4 lines using comprehensions, but it's alright if yours is longer)\n",
    "\n",
    "chars = sorted(list(set(raw_data)))\n",
    "vocab_size = len(chars)\n",
    "print(f\"vocab_size {vocab_size}\")\n",
    "char2idx = { ch:i for i,ch in enumerate(chars) }\n",
    "\n",
    "class Tokenizer():\n",
    "\n",
    "    def __init__(self, c2i):\n",
    "        self.c2i = c2i\n",
    "        self.i2c = { i:ch for i,ch in enumerate(chars) }\n",
    "        # print(f\"c2i:\\n{self.c2i}\")\n",
    "        # print(f\"i2c:\\n{self.i2c}\")\n",
    "        # assert False, \"hold up\"\n",
    "        \n",
    "    def encode(self, from_text):\n",
    "        out = [self.c2i[c] for c in from_text]\n",
    "        return out\n",
    "    \n",
    "    def decode(self, from_codes):\n",
    "        if torch.is_tensor(from_codes):\n",
    "            from_codes = from_codes.tolist()\n",
    "        out = ''.join([self.i2c[i] for i in from_codes])\n",
    "        return out\n",
    "\n",
    "# YOUR CODE ENDS HERE"
   ]
  },
  {
   "cell_type": "code",
   "execution_count": 5,
   "metadata": {},
   "outputs": [],
   "source": [
    "_tokenizer = Tokenizer(char2idx)\n",
    "\n",
    "_token_ids = _tokenizer.encode(\"hello\")\n",
    "_text = _tokenizer.decode(_token_ids)\n",
    "\n",
    "assert isinstance(_token_ids, list), \"token_ids should be a list\"\n",
    "assert isinstance(_token_ids[0], int), \"token_ids should be a list of integers\"\n",
    "assert _text == \"hello\", \"decode should work correctly and return the original text\"\n",
    "\n",
    "del _tokenizer, _token_ids, _text"
   ]
  },
  {
   "attachments": {},
   "cell_type": "markdown",
   "metadata": {},
   "source": [
    "# Chunk the data\n",
    "\n",
    "Our data is too long to be processed in one go. We will split it into chunks of length 128. We will use the first 128 characters to predict the next character. This is a decent length for a sequence, but you can play with it if you want.\n",
    "\n",
    "## Coding task 3.3\n",
    "\n",
    "1. Create a list of sequences of length `MAX_LEN + 1`. Each sequence should be a list of integers. You'll see why we need `+ 1` in a minute.\n",
    "   * You might need to get rid of your last example if it's shorter than `MAX_LEN + 1` characters. We need all data to be of the same length to simplify batching.\n",
    "   * In the next homework we will implement batchihg for sequences of different lengths and you are probably not going to enjoy it, it's a bit tricky.\n",
    "2. Split the data into training and validation sets. Use 90% of the data for training and 10% for validation.\n",
    "3. Make x and y pairs for your data. Remember that we want to use the first 128 characters to predict the next character. So, `x` should be the first 128 characters and `y` should be a shifted version of the same sequence, so it's the last 128 characters. Name them `train_x` and `train_y` for the training set and `val_x` and `val_y` for the validation set.\n",
    "4. Print an example from the training set. You should see that the first 128 characters are the same as the first 128 characters of the original text, and the last 128 characters are the same as the last 128 characters of the original text, shifted by one character.\n",
    "\n",
    "You can just stride using `data[i:i+128]` for each `i` in `range(0, len(data), 128)`, no need to do anything fancy. You can figure out more complex ways to do it, just do this after all the homework is done. You receive no extra points if your homework is not finished.\n",
    "\n",
    "### Grading criteria\n",
    "\n",
    "1. 1 point for `data_chunks` list and train-test split\n",
    "2. 1 point for dataset and dataloader objects\n",
    "3. Extra point for a more interesting way to chunk the text\n",
    "4. Extra point for implementing a custom dataset class"
   ]
  },
  {
   "cell_type": "code",
   "execution_count": 6,
   "metadata": {},
   "outputs": [],
   "source": [
    "MAX_LEN = 128\n",
    "\n",
    "# YOUR CODE STARTS HERE (our implementation is about 13 lines, but it's alright if yours is different)\n",
    "\n",
    "tokenizer = Tokenizer(char2idx)\n",
    "raw_codes = tokenizer.encode(raw_data)\n",
    "\n",
    "x_list = [raw_codes[i:i+128] for i in range(0, len(raw_codes), 128)]\n",
    "y_list = [raw_codes[i+1:i+128+1] for i in range(0, len(raw_codes), 128)]\n",
    "# get rid of the stragglers\n",
    "x_list = x_list[0:-1]\n",
    "y_list = y_list[0:-1]\n",
    "\n",
    "split = int(len(x_list) * 0.9)\n",
    "x_train = x_list[:split]\n",
    "x_val   = x_list[split:]\n",
    "y_train = y_list[:split]\n",
    "y_val   = y_list[split:]\n",
    "\n",
    "# YOUR CODE ENDS HERE"
   ]
  },
  {
   "attachments": {},
   "cell_type": "markdown",
   "metadata": {},
   "source": [
    "# Using `torch.utils.data`\n",
    "\n",
    "We will use `torch.utils.data.Dataset` to create a dataset object that will be used to create a `torch.utils.data.DataLoader` object. The `DataLoader` object will be used to create batches of data.\n",
    "\n",
    "## Coding task 3.4\n",
    "\n",
    "Your task is to learn how to use `torch.utils.data.Dataset` and `torch.utils.data.DataLoader` classes and to apply them to our data.\n",
    "\n",
    "1. Convert your data to tensors of type long\n",
    "1. Create a `torch.utils.data.Dataset` object for each train and test data. Name them `train_dataset` and `val_dataset`. You can use the `TensorDataset` class for this or make a new class that inherits from `torch.utils.data.Dataset` and implements the `__getitem__` and `__len__` methods.\n",
    "2. Try indexing `train_dataset` to get a single example and decode it using `tokenizer.decode()`. What does it contain? Use tokenizer to decode one example (both x and y). Does it look like a valid text? Are the targets shifted by one character?\n",
    "1. Use the `DataLoader` class to create `train_loader` and `val_loader` objects. It will shuffle and batch data for you. You can use the following parameters:\n",
    "   * `dataset` - the dataset object you created in the previous step\n",
    "   * `batch_size` - your choice!\n",
    "   * `shuffle` - True for training data, False for validation data\n",
    "   * `num_workers` - 8, number of CPU cores to use for batch preparation\n",
    "3. Try iterating over `train_loader` and print the shapes of the batches.\n",
    "    * You can use `break` to stop the loop after the first iteration.\n",
    "4. Try decoding a batch that you get from `train_loader`. Does it look like a valid text? Are the targets shifted by one character?\n",
    "\n",
    "Learn more about data feeding in pytorch here: https://pytorch.org/tutorials/beginner/basics/data_tutorial.html\n",
    "\n",
    "\n",
    "**NOTE:**\n",
    "1. `TensorDataset` returns a tuple of tensors. Usually these are `(x, y)` pairs, where `x` is the input and `y` is the target. In our case, `x` is the input sequence and `y` is the same sequence shifted by one character. This is how we will train our language model. We will use the first 128 characters to predict the next character.\n",
    "1. You need to convert your pytorch tensor into a python list in order to use `tokenizer.decode()`. Feel free to do it in-place or modify the `decode` method of the `Tokenizer` class to accept **BOTH** python lists and pytorch tensors. You can check what datatype you have using `isinstance()` function.\n",
    "2. Printing might look a bit weird because you have a lot of `\\n` in the data. It is alright, just be careful when you are verifying that your data is correct.\n",
    "\n",
    "### Grading criteria\n",
    "\n",
    "* 1 point for `train_dataset` and `val_dataset` objects\n",
    "* 1 point if each test is written and passed:\n",
    "  * train dataset element is correctly processed and x and y corespond to the correct characters\n",
    "  * printed the shapes of the items that you get from `train_loader`\n",
    "  * decoded a batch from `train_loader` and printed the decoded text and it is correct"
   ]
  },
  {
   "cell_type": "code",
   "execution_count": 7,
   "metadata": {},
   "outputs": [
    {
     "name": "stdout",
     "output_type": "stream",
     "text": [
      "---x----\n",
      "torch.Size([128, 128])\n",
      "an proceed that toucheth us\n",
      "Whereof I shall not have intelligence.\n",
      "Tell him his fears are shallow, wanting instance:\n",
      "And for his\n",
      "---y----\n",
      "torch.Size([128, 128])\n",
      "n proceed that toucheth us\n",
      "Whereof I shall not have intelligence.\n",
      "Tell him his fears are shallow, wanting instance:\n",
      "And for his \n"
     ]
    }
   ],
   "source": [
    "# YOUR CODE STARTS HERE (our implementation is about 13 lines)\n",
    "\n",
    "BATCH_SIZE = 128\n",
    "NUM_WORKERS = 8\n",
    "\n",
    "x_train_tensor = torch.tensor(x_train, dtype=torch.long)\n",
    "x_val_tensor = torch.tensor(x_val, dtype=torch.long)\n",
    "y_train_tensor = torch.tensor(y_train, dtype=torch.long)\n",
    "y_val_tensor = torch.tensor(x_val, dtype=torch.long)\n",
    "\n",
    "train_dataset = torch.utils.data.TensorDataset(x_train_tensor, y_train_tensor)\n",
    "val_dataset = torch.utils.data.TensorDataset(x_val_tensor, y_val_tensor)\n",
    "\n",
    "train_loader = torch.utils.data.DataLoader(train_dataset,\n",
    "                                           batch_size=BATCH_SIZE,\n",
    "                                           shuffle=True,\n",
    "                                           num_workers=NUM_WORKERS)\n",
    "val_loader = torch.utils.data.DataLoader(val_dataset,\n",
    "                                         batch_size=BATCH_SIZE,\n",
    "                                         shuffle=True,\n",
    "                                         num_workers=NUM_WORKERS)\n",
    "\n",
    "for x, y in train_loader:\n",
    "    print(\"---x----\")\n",
    "    print(x.shape)\n",
    "    print(tokenizer.decode(x[0]))\n",
    "    print(\"---y----\")\n",
    "    print(y.shape)\n",
    "    print(tokenizer.decode(y[0]))\n",
    "    break\n",
    "\n",
    "# YOUR CODE ENDS HERE"
   ]
  },
  {
   "attachments": {},
   "cell_type": "markdown",
   "metadata": {},
   "source": [
    "# Train a Transformer model\n",
    "\n",
    "Import your `TransformerLM` model from `modeling_transormer` file and train it on the data you prepared above.\n",
    "You know the drill: define a model, an optimizer, and a training loop, log everything to wandb.\n",
    "You can also save your model using `TransformerLM.save_pretrained()` method and load it using `TransformerLM.from_pretrained()` method in case you want to.\n",
    "\n",
    "### Tricky part\n",
    "\n",
    "In PyTorch, `F.cross_entropy` expects the logits to be of shape `(batch_size, num_classes)` and the targets to be of shape `(batch_size,)` containing the class indices. In our case, the logits tensor has the shape `(batch_size, seq_len, num_classes)` and the targets are of shape `(batch_size, seq_len)`. We need to reshape the input and the targets to make them compatible with `F.cross_entropy`. You can do it like this:\n",
    "\n",
    "```python\n",
    "bs, seq_len, num_classes = logits.shape\n",
    "logits = logits.reshape(bs * seq_len, num_classes)\n",
    "targets = targets.reshape(bs * seq_len)\n",
    "```\n",
    "\n",
    "or, equivalently, like this:\n",
    "\n",
    "```python\n",
    "logits = logits.view(-1, num_classes)\n",
    "targets = targets.view(-1)\n",
    "```\n",
    "\n",
    "Try monitoring your GPU consumption and max it out. The more efficient your code is, the faster your model will train.\n",
    "During training log your loss and and accuracy. You can only log accuracy every 100 batches or so, because it is a bit slow to compute. You can also log the learning rate.\n",
    "During evlauation you just need to log the perplexity, the loss, and accuracy. Perplexity is just `exp(loss)`.\n",
    "Accuracy is not the most standard metric for language models, but it is very intererpretable and easy to compute. Don't expect it to be high, though.\n",
    "Be mindful how frequenly you evaluate your model. You don't want to evaluate it too often, because it will slow down your training loop.\n",
    "\n",
    "> You can also log the number of batches you process in one second (throughput) as a measure of efficiency. It is not required, but it is a good idea to monitor it.\n",
    "\n",
    "## Coding task 3.5\n",
    "\n",
    "Make a training loop and train your model.\n",
    "\n",
    "### Grading criteria\n",
    "**(5 points + extra points)**\n",
    "\n",
    "* 2 points for trainig loop\n",
    "* 1 point for using the GPU\n",
    "* 1 point for evaluation loop (we recommend to make it into a separate function to make your code more readable)\n",
    "* 1 point for wandb logging of train loss, eval loss, train accuracy, eval accuracy, eval perplexity. You can also log the learning rate, but it is not required.\n",
    "* -1 point if forget to zero your gradients between batches\n",
    "* -1 point if your forget to put your model to evaluation mode during evaluation and back to training mode during training\n",
    "* Extra point for using a learning rate scheduler\n",
    "* Extra point for any other improvements to the training loop\n"
   ]
  },
  {
   "cell_type": "code",
   "execution_count": 13,
   "metadata": {},
   "outputs": [
    {
     "name": "stderr",
     "output_type": "stream",
     "text": [
      "\u001b[34m\u001b[1mwandb\u001b[0m: \u001b[33mWARNING\u001b[0m Calling wandb.login() after wandb.init() has no effect.\n"
     ]
    },
    {
     "name": "stdout",
     "output_type": "stream",
     "text": [
      "config:\n",
      "run_name: train_0315_14_55_21\n",
      "VOCAB_SIZE: 65\n",
      "MAX_LENGTH: 128\n",
      "NUM_LAYERS: 4\n",
      "NUM_HIDDEN: 30\n",
      "NUM_HEADS: 6\n",
      "FCN_HIDDEN: 71\n",
      "LEARNING_RATE: 0.0001\n",
      "DROPOUT: 0.1\n",
      "MAX_EPOCHS: 50\n",
      "BATCH_SIZE: 128\n",
      "EVAL_EVERY: 100\n"
     ]
    },
    {
     "data": {
      "text/html": [
       "Finishing last run (ID:kslrwq0b) before initializing another..."
      ],
      "text/plain": [
       "<IPython.core.display.HTML object>"
      ]
     },
     "metadata": {},
     "output_type": "display_data"
    },
    {
     "data": {
      "text/html": [
       "Waiting for W&B process to finish... <strong style=\"color:green\">(success).</strong>"
      ],
      "text/plain": [
       "<IPython.core.display.HTML object>"
      ]
     },
     "metadata": {},
     "output_type": "display_data"
    },
    {
     "data": {
      "text/html": [
       "<style>\n",
       "    table.wandb td:nth-child(1) { padding: 0 10px; text-align: left ; width: auto;} td:nth-child(2) {text-align: left ; width: 100%}\n",
       "    .wandb-row { display: flex; flex-direction: row; flex-wrap: wrap; justify-content: flex-start; width: 100% }\n",
       "    .wandb-col { display: flex; flex-direction: column; flex-basis: 100%; flex: 1; padding: 10px; }\n",
       "    </style>\n",
       "<div class=\"wandb-row\"><div class=\"wandb-col\"><h3>Run history:</h3><br/><table class=\"wandb\"><tr><td>train_accuracy</td><td>▄▆▆▇▆▇█▁▂▇▇▇▁▂▂▃▆▆▆▆▆██▅▃▃▆▄▇▇▇▇▇▆▇▇█▇██</td></tr><tr><td>train_loss</td><td>█▆▄▃▂▂▁▃▂▃▅▁▄▅▄▃▂▃▃▃▂▃▃▂▂▂▂▁▂▂▂▁▂▂▂▁▁▃▃▂</td></tr><tr><td>val_accuracy</td><td>▁█▃█▄██▄████</td></tr><tr><td>val_loss</td><td>█▃▂▂▃▂▃▂▃▁▃▁</td></tr></table><br/></div></div>"
      ],
      "text/plain": [
       "<IPython.core.display.HTML object>"
      ]
     },
     "metadata": {},
     "output_type": "display_data"
    },
    {
     "data": {
      "text/html": [
       " View run <strong style=\"color:#cdcd00\">avid-microwave-25</strong> at: <a href='https://wandb.ai/metrowest/hw5_transformer/runs/kslrwq0b' target=\"_blank\">https://wandb.ai/metrowest/hw5_transformer/runs/kslrwq0b</a><br/>Synced 6 W&B file(s), 0 media file(s), 0 artifact file(s) and 0 other file(s)"
      ],
      "text/plain": [
       "<IPython.core.display.HTML object>"
      ]
     },
     "metadata": {},
     "output_type": "display_data"
    },
    {
     "data": {
      "text/html": [
       "Find logs at: <code>.\\wandb\\run-20230315_145327-kslrwq0b\\logs</code>"
      ],
      "text/plain": [
       "<IPython.core.display.HTML object>"
      ]
     },
     "metadata": {},
     "output_type": "display_data"
    },
    {
     "data": {
      "text/html": [
       "Successfully finished last run (ID:kslrwq0b). Initializing new run:<br/>"
      ],
      "text/plain": [
       "<IPython.core.display.HTML object>"
      ]
     },
     "metadata": {},
     "output_type": "display_data"
    },
    {
     "data": {
      "application/vnd.jupyter.widget-view+json": {
       "model_id": "aa23b31cca0547e49a89095f75f896f4",
       "version_major": 2,
       "version_minor": 0
      },
      "text/plain": [
       "VBox(children=(Label(value='Waiting for wandb.init()...\\r'), FloatProgress(value=0.016666666666666666, max=1.0…"
      ]
     },
     "metadata": {},
     "output_type": "display_data"
    },
    {
     "data": {
      "text/html": [
       "Tracking run with wandb version 0.14.0"
      ],
      "text/plain": [
       "<IPython.core.display.HTML object>"
      ]
     },
     "metadata": {},
     "output_type": "display_data"
    },
    {
     "data": {
      "text/html": [
       "Run data is saved locally in <code>g:\\My Drive\\code_uml\\uml_comp5300\\hw5_transformer\\notebooks\\wandb\\run-20230315_145521-fx11javh</code>"
      ],
      "text/plain": [
       "<IPython.core.display.HTML object>"
      ]
     },
     "metadata": {},
     "output_type": "display_data"
    },
    {
     "data": {
      "text/html": [
       "Syncing run <strong><a href='https://wandb.ai/metrowest/hw5_transformer/runs/fx11javh' target=\"_blank\">helpful-sky-26</a></strong> to <a href='https://wandb.ai/metrowest/hw5_transformer' target=\"_blank\">Weights & Biases</a> (<a href='https://wandb.me/run' target=\"_blank\">docs</a>)<br/>"
      ],
      "text/plain": [
       "<IPython.core.display.HTML object>"
      ]
     },
     "metadata": {},
     "output_type": "display_data"
    },
    {
     "data": {
      "text/html": [
       " View project at <a href='https://wandb.ai/metrowest/hw5_transformer' target=\"_blank\">https://wandb.ai/metrowest/hw5_transformer</a>"
      ],
      "text/plain": [
       "<IPython.core.display.HTML object>"
      ]
     },
     "metadata": {},
     "output_type": "display_data"
    },
    {
     "data": {
      "text/html": [
       " View run at <a href='https://wandb.ai/metrowest/hw5_transformer/runs/fx11javh' target=\"_blank\">https://wandb.ai/metrowest/hw5_transformer/runs/fx11javh</a>"
      ],
      "text/plain": [
       "<IPython.core.display.HTML object>"
      ]
     },
     "metadata": {},
     "output_type": "display_data"
    },
    {
     "data": {
      "text/html": [
       "Waiting for W&B process to finish... <strong style=\"color:green\">(success).</strong>"
      ],
      "text/plain": [
       "<IPython.core.display.HTML object>"
      ]
     },
     "metadata": {},
     "output_type": "display_data"
    },
    {
     "data": {
      "application/vnd.jupyter.widget-view+json": {
       "model_id": "1a70f7cbd99540fea5eb7447e7cff0df",
       "version_major": 2,
       "version_minor": 0
      },
      "text/plain": [
       "VBox(children=(Label(value='0.001 MB of 0.157 MB uploaded (0.000 MB deduped)\\r'), FloatProgress(value=0.008645…"
      ]
     },
     "metadata": {},
     "output_type": "display_data"
    },
    {
     "data": {
      "text/html": [
       "<style>\n",
       "    table.wandb td:nth-child(1) { padding: 0 10px; text-align: left ; width: auto;} td:nth-child(2) {text-align: left ; width: 100%}\n",
       "    .wandb-row { display: flex; flex-direction: row; flex-wrap: wrap; justify-content: flex-start; width: 100% }\n",
       "    .wandb-col { display: flex; flex-direction: column; flex-basis: 100%; flex: 1; padding: 10px; }\n",
       "    </style>\n",
       "<div class=\"wandb-row\"><div class=\"wandb-col\"><h3>Run history:</h3><br/><table class=\"wandb\"><tr><td>train_accuracy</td><td>▇▇█▇██▅▅▇▆▁▃▇▇▇█▇▇▄▇▇▇▇▄▁▇▄▃▇█▂▃▁▄▇▇▇▆▄▆</td></tr><tr><td>train_loss</td><td>▆▃▁▂▁▃▃▃▄▃▃▃▂▂▂▂▂▂▂▃▂▂▃▂▄▅▃█▄▆▇▆▄▄▃▃▄▂▃▄</td></tr><tr><td>val_accuracy</td><td>▁████▁█▅▂█████▂█▂█▅▃█▅██▅▂▃██▅▅</td></tr><tr><td>val_loss</td><td>█▃▂▁▁▃▂▃▂▂▁▂▂▁▂▁▃▁▁▃▁▄▂▁▃▂▂▁▃▃▁</td></tr></table><br/></div></div>"
      ],
      "text/plain": [
       "<IPython.core.display.HTML object>"
      ]
     },
     "metadata": {},
     "output_type": "display_data"
    },
    {
     "data": {
      "text/html": [
       " View run <strong style=\"color:#cdcd00\">helpful-sky-26</strong> at: <a href='https://wandb.ai/metrowest/hw5_transformer/runs/fx11javh' target=\"_blank\">https://wandb.ai/metrowest/hw5_transformer/runs/fx11javh</a><br/>Synced 5 W&B file(s), 0 media file(s), 0 artifact file(s) and 0 other file(s)"
      ],
      "text/plain": [
       "<IPython.core.display.HTML object>"
      ]
     },
     "metadata": {},
     "output_type": "display_data"
    },
    {
     "data": {
      "text/html": [
       "Find logs at: <code>.\\wandb\\run-20230315_145521-fx11javh\\logs</code>"
      ],
      "text/plain": [
       "<IPython.core.display.HTML object>"
      ]
     },
     "metadata": {},
     "output_type": "display_data"
    },
    {
     "name": "stdout",
     "output_type": "stream",
     "text": [
      "final max_val_accuracy:  tensor(0.1490, device='cuda:0')\n",
      "Took: 00:04:19\n"
     ]
    },
    {
     "ename": "AttributeError",
     "evalue": "'TransformerLM' object has no attribute 'encoder'",
     "output_type": "error",
     "traceback": [
      "\u001b[1;31m---------------------------------------------------------------------------\u001b[0m",
      "\u001b[1;31mAttributeError\u001b[0m                            Traceback (most recent call last)",
      "\u001b[1;32mg:\\My Drive\\code_uml\\uml_comp5300\\hw5_transformer\\notebooks\\03_traininig.ipynb Cell 15\u001b[0m in \u001b[0;36m<cell line: 148>\u001b[1;34m()\u001b[0m\n\u001b[0;32m    <a href='vscode-notebook-cell:/g%3A/My%20Drive/code_uml/uml_comp5300/hw5_transformer/notebooks/03_traininig.ipynb#X21sZmlsZQ%3D%3D?line=144'>145</a>\u001b[0m elapsed \u001b[39m=\u001b[39m time\u001b[39m.\u001b[39mstrftime(\u001b[39m\"\u001b[39m\u001b[39m%\u001b[39m\u001b[39mH:\u001b[39m\u001b[39m%\u001b[39m\u001b[39mM:\u001b[39m\u001b[39m%\u001b[39m\u001b[39mS\u001b[39m\u001b[39m\"\u001b[39m, time\u001b[39m.\u001b[39mgmtime(time\u001b[39m.\u001b[39mtime() \u001b[39m-\u001b[39m start_time))\n\u001b[0;32m    <a href='vscode-notebook-cell:/g%3A/My%20Drive/code_uml/uml_comp5300/hw5_transformer/notebooks/03_traininig.ipynb#X21sZmlsZQ%3D%3D?line=145'>146</a>\u001b[0m \u001b[39mprint\u001b[39m(\u001b[39mf\u001b[39m\u001b[39m\"\u001b[39m\u001b[39mTook: \u001b[39m\u001b[39m{\u001b[39;00melapsed\u001b[39m}\u001b[39;00m\u001b[39m\"\u001b[39m)\n\u001b[1;32m--> <a href='vscode-notebook-cell:/g%3A/My%20Drive/code_uml/uml_comp5300/hw5_transformer/notebooks/03_traininig.ipynb#X21sZmlsZQ%3D%3D?line=147'>148</a>\u001b[0m model\u001b[39m.\u001b[39;49msave_pretrained(config[\u001b[39m\"\u001b[39;49m\u001b[39mrun_name\u001b[39;49m\u001b[39m\"\u001b[39;49m])\n",
      "File \u001b[1;32mg:\\My Drive\\code_uml\\uml_comp5300\\hw5_transformer\\notebooks\\..\\transformer_lm\\modeling_transformer.py:248\u001b[0m, in \u001b[0;36mTransformerLM.save_pretrained\u001b[1;34m(self, save_path)\u001b[0m\n\u001b[0;32m    241\u001b[0m \u001b[39mdef\u001b[39;00m \u001b[39msave_pretrained\u001b[39m(\u001b[39mself\u001b[39m, save_path):\n\u001b[0;32m    242\u001b[0m     \u001b[39m\"\"\"Save the model weights to a directory\u001b[39;00m\n\u001b[0;32m    243\u001b[0m \n\u001b[0;32m    244\u001b[0m \u001b[39m    Args:\u001b[39;00m\n\u001b[0;32m    245\u001b[0m \u001b[39m        save_path: directory to save the model\u001b[39;00m\n\u001b[0;32m    246\u001b[0m \u001b[39m    \"\"\"\u001b[39;00m\n\u001b[0;32m    247\u001b[0m     config \u001b[39m=\u001b[39m {\n\u001b[1;32m--> 248\u001b[0m         \u001b[39m\"\u001b[39m\u001b[39mnum_layers\u001b[39m\u001b[39m\"\u001b[39m: \u001b[39mself\u001b[39;49m\u001b[39m.\u001b[39;49mencoder\u001b[39m.\u001b[39mnum_layers,\n\u001b[0;32m    249\u001b[0m         \u001b[39m\"\u001b[39m\u001b[39mhidden\u001b[39m\u001b[39m\"\u001b[39m: \u001b[39mself\u001b[39m\u001b[39m.\u001b[39mencoder\u001b[39m.\u001b[39mhidden,\n\u001b[0;32m    250\u001b[0m         \u001b[39m\"\u001b[39m\u001b[39mnum_heads\u001b[39m\u001b[39m\"\u001b[39m: \u001b[39mself\u001b[39m\u001b[39m.\u001b[39mencoder\u001b[39m.\u001b[39mnum_heads,\n\u001b[0;32m    251\u001b[0m         \u001b[39m\"\u001b[39m\u001b[39mfcn_hidden\u001b[39m\u001b[39m\"\u001b[39m: \u001b[39mself\u001b[39m\u001b[39m.\u001b[39mencoder\u001b[39m.\u001b[39mfcn_hidden,\n\u001b[0;32m    252\u001b[0m         \u001b[39m\"\u001b[39m\u001b[39mvocab_size\u001b[39m\u001b[39m\"\u001b[39m: \u001b[39mself\u001b[39m\u001b[39m.\u001b[39mencoder\u001b[39m.\u001b[39mvocab_size,\n\u001b[0;32m    253\u001b[0m         \u001b[39m\"\u001b[39m\u001b[39mmax_seq_len\u001b[39m\u001b[39m\"\u001b[39m: \u001b[39mself\u001b[39m\u001b[39m.\u001b[39mencoder\u001b[39m.\u001b[39mmax_seq_len,\n\u001b[0;32m    254\u001b[0m         \u001b[39m\"\u001b[39m\u001b[39mdropout\u001b[39m\u001b[39m\"\u001b[39m: \u001b[39mself\u001b[39m\u001b[39m.\u001b[39mencoder\u001b[39m.\u001b[39mdropout_rate,\n\u001b[0;32m    255\u001b[0m     }\n\u001b[0;32m    257\u001b[0m     \u001b[39mwith\u001b[39;00m \u001b[39mopen\u001b[39m(os\u001b[39m.\u001b[39mpath\u001b[39m.\u001b[39mjoin(save_path, \u001b[39m\"\u001b[39m\u001b[39mmodel_config.json\u001b[39m\u001b[39m\"\u001b[39m), \u001b[39m\"\u001b[39m\u001b[39mw\u001b[39m\u001b[39m\"\u001b[39m) \u001b[39mas\u001b[39;00m f:\n\u001b[0;32m    258\u001b[0m        json\u001b[39m.\u001b[39mdump(config, f)\n",
      "File \u001b[1;32mc:\\Users\\chris\\anaconda3\\envs\\pytorch_c_cuda_11_7\\lib\\site-packages\\torch\\nn\\modules\\module.py:1265\u001b[0m, in \u001b[0;36mModule.__getattr__\u001b[1;34m(self, name)\u001b[0m\n\u001b[0;32m   1263\u001b[0m     \u001b[39mif\u001b[39;00m name \u001b[39min\u001b[39;00m modules:\n\u001b[0;32m   1264\u001b[0m         \u001b[39mreturn\u001b[39;00m modules[name]\n\u001b[1;32m-> 1265\u001b[0m \u001b[39mraise\u001b[39;00m \u001b[39mAttributeError\u001b[39;00m(\u001b[39m\"\u001b[39m\u001b[39m'\u001b[39m\u001b[39m{}\u001b[39;00m\u001b[39m'\u001b[39m\u001b[39m object has no attribute \u001b[39m\u001b[39m'\u001b[39m\u001b[39m{}\u001b[39;00m\u001b[39m'\u001b[39m\u001b[39m\"\u001b[39m\u001b[39m.\u001b[39mformat(\n\u001b[0;32m   1266\u001b[0m     \u001b[39mtype\u001b[39m(\u001b[39mself\u001b[39m)\u001b[39m.\u001b[39m\u001b[39m__name__\u001b[39m, name))\n",
      "\u001b[1;31mAttributeError\u001b[0m: 'TransformerLM' object has no attribute 'encoder'"
     ]
    }
   ],
   "source": [
    "from transformer_lm.modeling_transformer import TransformerLM\n",
    "\n",
    "# YOUR CODE STARTS HERE\n",
    "from datetime import datetime\n",
    "import time\n",
    "import wandb\n",
    "\n",
    "assert torch.cuda.is_available(), \"the code requires CUDA\"\n",
    "device = torch.device(\"cuda\")\n",
    "start_time = time.time()\n",
    "\n",
    "config = {\n",
    "    \"run_name\": datetime.now().strftime(\"train_%m%d_%H_%M_%S\"),\n",
    "\n",
    "    \"VOCAB_SIZE\": vocab_size,\n",
    "    \"MAX_LENGTH\": MAX_LEN,\n",
    "\n",
    "    \"NUM_LAYERS\": 4,\n",
    "    \"NUM_HIDDEN\": 30,\n",
    "    \"NUM_HEADS\": 6,\n",
    "    \"FCN_HIDDEN\": 71,\n",
    "    \"LEARNING_RATE\": 1e-4,\n",
    "    \"DROPOUT\": 0.1,\n",
    "\n",
    "    \"MAX_EPOCHS\": 50,  # 5000\n",
    "    \"BATCH_SIZE\": BATCH_SIZE,\n",
    "    \"EVAL_EVERY\": 100,\n",
    "}\n",
    "print(\"config:\")\n",
    "for k, v in config.items():\n",
    "    print(f\"{k}: {v}\")\n",
    "\n",
    "wandb.login()\n",
    "wandb.init(project=\"hw5_transformer\", config=config)\n",
    "wandb.define_metric(\"train_loss\", summary=\"min\")\n",
    "wandb.define_metric(\"train_accuracy\", summary=\"max\")\n",
    "wandb.define_metric(\"val_loss\", summary=\"min\")\n",
    "wandb.define_metric(\"val_accuracy\", summary=\"max\")\n",
    "\n",
    "# rLM(num_layers=2, hidden=15, num_heads=3, fcn_hidden=71, vocab_size=100, max_seq_len=7)\n",
    "\n",
    "m_ = TransformerLM(\n",
    "    num_layers=config[\"NUM_LAYERS\"],\n",
    "    hidden=config[\"NUM_HIDDEN\"],\n",
    "    num_heads=config[\"NUM_HEADS\"],\n",
    "    fcn_hidden=config[\"FCN_HIDDEN\"],\n",
    "    vocab_size=config[\"VOCAB_SIZE\"],\n",
    "    max_seq_len=config[\"MAX_LENGTH\"],\n",
    "    dropout=config[\"DROPOUT\"])\n",
    "\n",
    "model = m_.to(device) \n",
    "wandb.watch(model)\n",
    "\n",
    "optimizer = torch.optim.AdamW(model.parameters(), lr=config[\"LEARNING_RATE\"])\n",
    "\n",
    "global_step = -1\n",
    "max_val_accuracy = 0.\n",
    "for epoch in range(config[\"MAX_EPOCHS\"]):\n",
    "\n",
    "    # training\n",
    "    for train_features, train_labels in train_loader:\n",
    "        global_step += 1\n",
    "        train_features = train_features.to(device)\n",
    "        train_labels = train_labels.to(device)\n",
    "\n",
    "        logits = model(train_features)\n",
    "\n",
    "        logits = logits.view(-1, config[\"VOCAB_SIZE\"],)\n",
    "        train_labels = train_labels.view(-1)\n",
    "\n",
    "        loss = F.cross_entropy(logits, train_labels)\n",
    "\n",
    "        _, predictions = torch.max(logits, dim=1)\n",
    "        train_num_predictions = predictions.shape[0]\n",
    "        train_num_correct = torch.sum(predictions == train_labels)\n",
    "\n",
    "        train_batch_accuracy = train_num_correct / train_num_predictions\n",
    "\n",
    "        log_dict = {\n",
    "            \"train_loss\": loss,\n",
    "            \"train_accuracy\": train_batch_accuracy,\n",
    "        }\n",
    "        # \"train_num_predictions\": train_num_predictions,\n",
    "        # \"train_num_correct\": train_num_correct,\n",
    "        wandb.log(step=global_step, data=log_dict)\n",
    "\n",
    "        # update the model\n",
    "        loss.backward()\n",
    "        optimizer.step()\n",
    "        optimizer.zero_grad\n",
    "\n",
    "        # validation\n",
    "        if global_step % config[\"EVAL_EVERY\"] == 0:\n",
    "            model.eval()\n",
    "            with torch.no_grad():\n",
    "\n",
    "                val_total_loss = 0.\n",
    "                val_num_predictions = 0\n",
    "                val_num_correct = 0\n",
    "                val_accuracy = 0.0\n",
    "\n",
    "                val_num_batches = 0\n",
    "                for val_features, val_labels in val_loader:\n",
    "                    val_num_batches += 1\n",
    "\n",
    "                    val_features = val_features.to(device)\n",
    "                    val_labels = val_labels.to(device)\n",
    "\n",
    "                    logits = model(val_features)\n",
    "\n",
    "                    logits = logits.view(-1, config[\"VOCAB_SIZE\"],)\n",
    "                    val_labels = val_labels.view(-1)\n",
    "\n",
    "                    val_total_loss += F.cross_entropy(logits, val_labels)\n",
    "\n",
    "                    _, predictions = torch.max(logits, dim=1)\n",
    "                    val_num_predictions += predictions.shape[0]\n",
    "                    val_num_correct += torch.sum(predictions == val_labels)\n",
    "\n",
    "                val_accuracy = val_num_correct / val_num_predictions\n",
    "                val_avg_loss = val_total_loss / val_num_batches\n",
    "\n",
    "                if val_accuracy > max_val_accuracy:\n",
    "                    max_val_accuracy = val_accuracy\n",
    "\n",
    "                log_dict = {\n",
    "                    \"val_loss\": val_avg_loss,\n",
    "                    \"val_accuracy\": val_accuracy,\n",
    "                }\n",
    "                # \"max_val_accuracy\": max_val_accuracy,\n",
    "                # \"val_num_predictions\": val_num_predictions,\n",
    "                # \"val_num_correct\": val_num_correct,\n",
    "                wandb.log(step=global_step, data=log_dict)\n",
    "\n",
    "                # print(\"global_step: \", global_step,\n",
    "                #       \"val_loss \", val_avg_loss,\n",
    "                #       \" val:accuracy: \", val_accuracy,\n",
    "                #       \" max_val_accuracy: \", max_val_accuracy)\n",
    "            model.train()\n",
    "\n",
    "wandb.finish()\n",
    "\n",
    "print(\"final max_val_accuracy: \", max_val_accuracy)\n",
    "\n",
    "elapsed = time.strftime(\"%H:%M:%S\", time.gmtime(time.time() - start_time))\n",
    "print(f\"Took: {elapsed}\")\n",
    "\n",
    "# model.save_pretrained(config[\"run_name\"])\n",
    "\n",
    "# YOUR CODE ENDS HERE"
   ]
  },
  {
   "attachments": {},
   "cell_type": "markdown",
   "metadata": {},
   "source": [
    "# Generate text using your model\n",
    "\n",
    "Now it's time to see what this model can do. Implement a generation function.\n",
    "The idea is to start with some prefix text, predict the next character, append it to the prefix, and repeat the process.\n",
    "You can stop generating text when you reach MAX_LEN tokens.\n",
    "\n",
    "Use `torch.no_grad()` context manager to make sure that you don't compute gradients during generation, or it will blow up your GPU memory.\n",
    "\n",
    "## Coding task 3.6\n",
    "\n",
    "Implement a generation function that accepts a prefix text and generates the next tokens up to MAX_LEN.\n",
    "\n",
    "### Grading criteria\n",
    "**(2 points)**\n",
    "\n",
    "* 2 points for generation function\n",
    "* -1 point if you forget to put your model to evaluation mode during generation and back to training mode after generation or if you forget to use `torch.no_grad()` context manager, or if you are not using the GPU."
   ]
  },
  {
   "cell_type": "code",
   "execution_count": 37,
   "metadata": {},
   "outputs": [
    {
     "name": "stdout",
     "output_type": "stream",
     "text": [
      "--- generated ----\n",
      "[0, 57, 59, 1, 61, 52, 58, 56, 53, 13, 58, 27, 61, 26, 1, 28, 31, 53, 56, 52, 46, 56, 46, 42, 45, 47, 53, 52, 10, 58, 63, 46, 59, 8, 61, 49, 1, 56, 30, 43, 46, 44, 57, 47, 42, 10, 11, 8, 15, 46, 59, 43, 11, 13, 21, 0, 46, 43, 47, 6, 46, 53, 63, 61, 58, 45, 50, 60, 36, 53, 8, 52, 21, 58, 61, 44, 17, 53, 49, 52, 44, 58, 43, 45, 47, 53, 56, 46, 50, 10, 46, 43, 45, 47, 57, 10, 41, 39, 50, 1, 53]\n",
      "\n",
      "su wntroAtOwN PSornhrhdgion:tyhu.wk rRehfsid:;.Chue;AI\n",
      "hei,hoywtglvXo.nItwfEoknftegiorhl:hegis:cal o\n"
     ]
    }
   ],
   "source": [
    "# YOUR CODE STARTS HERE (our implementation is about 10 lines)\n",
    "\n",
    "# Reference https://www.youtube.com/watch?v=kCc8FmEb1nY\n",
    "def generate(idx, max_new_tokens, max_seq_len):\n",
    "\n",
    "    # idx is (B, T) array of indices in the current context\n",
    "    for _ in range(max_new_tokens):\n",
    "        # crop idx to the last block_size tokens\n",
    "        idx_cond = idx[:, -max_seq_len:]\n",
    "        # get the predictions\n",
    "        logits = model(idx_cond)\n",
    "        # focus only on the last time step\n",
    "        logits = logits[:, -1, :] # becomes (B, C)\n",
    "        #apply softmax to get probabilities\n",
    "        probs = F.softmax(logits, dim=-1) # (B, c)\n",
    "        # sample from the distribution\n",
    "        idx_next = torch.multinomial(probs, num_samples=1) #(B, 1)\n",
    "        # append sampled index to the running sequence\n",
    "        idx = torch.cat((idx, idx_next), dim=1) #B, T+1)\n",
    "\n",
    "    return idx\n",
    "\n",
    "# generate from the model\n",
    "model.eval()\n",
    "with torch.no_grad():\n",
    "    context = torch.zeros((1, 1), dtype=torch.long, device=device)\n",
    "    generated = generate(context, max_new_tokens=100, max_seq_len=config[\"MAX_LENGTH\"]).tolist()\n",
    "    gen_string = tokenizer.decode(generated[0])\n",
    "    print(\"--- generated ----\")\n",
    "    print(generated[0])\n",
    "    print(gen_string)\n",
    "_ = model.train()\n",
    "\n",
    "# YOUR CODE ENDS HERE"
   ]
  },
  {
   "attachments": {},
   "cell_type": "markdown",
   "metadata": {},
   "source": [
    "# Exploring hyperparameters and understanding Transformers\n",
    "\n",
    "Train at least 10 models with different hyperparameters and compare them using wandb. Write a short report.\n",
    "\n",
    "\n",
    "### Grading criteria\n",
    "**(5 points max + extra points)**\n",
    "\n",
    "* 4 points for training 10+ models. 2 points if 5-9 models are trained.\n",
    "* 1 point for training report that describes what you did and what you learned about the hyperparameters and efficient training.\n",
    "* Extra point for every 10 more models trained (up to 10 extra points). Please be reasonalbe, training a model for 10 seconds does not count, they need to be if not converged, at least trained for a while."
   ]
  }
 ],
 "metadata": {
  "kernelspec": {
   "display_name": "pytorch_c_cuda_11_7",
   "language": "python",
   "name": "python3"
  },
  "language_info": {
   "codemirror_mode": {
    "name": "ipython",
    "version": 3
   },
   "file_extension": ".py",
   "mimetype": "text/x-python",
   "name": "python",
   "nbconvert_exporter": "python",
   "pygments_lexer": "ipython3",
   "version": "3.9.15"
  },
  "orig_nbformat": 4
 },
 "nbformat": 4,
 "nbformat_minor": 2
}
