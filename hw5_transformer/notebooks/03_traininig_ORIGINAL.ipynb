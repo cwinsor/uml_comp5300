{
 "cells": [
  {
   "cell_type": "code",
   "execution_count": null,
   "metadata": {},
   "outputs": [],
   "source": [
    "import sys\n",
    "\n",
    "import numpy as np\n",
    "\n",
    "import torch\n",
    "import torch.nn as nn\n",
    "import torch.nn.functional as F\n",
    "import torch.utils.data\n",
    "\n",
    "sys.path.append('../')  # make sure we can import transformer_lm"
   ]
  },
  {
   "attachments": {},
   "cell_type": "markdown",
   "metadata": {},
   "source": [
    "# Training a transformer language model\n",
    "\n",
    "In this notebook, we will learn how to\n",
    "\n",
    "1. preprocess data for language modeling\n",
    "2. use `torch.utils.data` to handle batching in an efficient and standard way\n",
    "3. train a transformer language model\n",
    "\n",
    "Specifically, we will use the Tiny Shakespeare dataset, which contains the complete works of William Shakespeare, to train a language model. The goal of this notebook is to walk you through the steps of pre-processing the dataset and preparing it for training using the PyTorch DataLoader, creating a language model, training it and using it to generate text.\n",
    "\n",
    "We will train a character-based langauge model instead of word-based, because:\n",
    "\n",
    "1. It's faster to train it to the point that it can generate text\n",
    "2. We don't want to complicate the homework with BPE tokenization\n",
    "3. We work with a small dataset which might not be enough to train a word-based language model\n",
    "\n",
    "> Feel free to try training a word-based language model on a larger dataset, such as the WikiText-2 dataset, which is available in the hugginface datasets library.\n",
    "\n",
    "# Step 1: Load and Explore the Dataset\n",
    "The first step is to load the dataset and explore it. In this example, we will use the Tiny Shakespeare dataset, which contains the complete works of William Shakespeare. We can download the dataset from the following URL: https://raw.githubusercontent.com/karpathy/char-rnn/master/data/tinyshakespeare/input.txt\n",
    "\n",
    "Feel free to use `wget` to download the dataset or just download the file manually and upload it to your Colab instance.\n",
    "\n",
    "Here's how you can use `wget` to download the dataset:\n",
    "```\n",
    "!wget https://raw.githubusercontent.com/karpathy/char-rnn/master/data/tinyshakespeare/input.txt -O tiny_shakespeare.txt\n",
    "```"
   ]
  },
  {
   "attachments": {},
   "cell_type": "markdown",
   "metadata": {},
   "source": [
    "## Coding task 3.1: load the data and take a look\n",
    "\n",
    "Read the file to a variable named `raw_data` and print the first 1000 characters.\n",
    "\n",
    "### Grading criteria\n",
    "**(1 point max)**\n",
    "\n",
    "1 point if everything works"
   ]
  },
  {
   "cell_type": "code",
   "execution_count": null,
   "metadata": {},
   "outputs": [],
   "source": [
    "with open(\"tiny_shakespeare.txt\", \"r\") as f:\n",
    "    raw_data = f.read()\n",
    "\n",
    "print(raw_data[:1000])"
   ]
  },
  {
   "attachments": {},
   "cell_type": "markdown",
   "metadata": {},
   "source": [
    "## Inline question 3.1: raw text preprocessing\n",
    "**(1 point max, 1 extra point for creative ideas)**\n",
    "\n",
    "Think about how you can pre-process the data (in terms of modifying the text). Provde three ideas and explain why you think they are useful or not. Think about the size of the data, tokenization method (we will use character-level language model), your computational resources, and what kind of text you want to generate. Make this answer as extensive as possible.\n",
    "\n",
    "***Your answer:***"
   ]
  },
  {
   "attachments": {},
   "cell_type": "markdown",
   "metadata": {},
   "source": [
    "# Step 2: preparing the data for the model\n",
    "\n",
    "## Coding task 3.2\n",
    "Similar to previous homeworks, where we made a vocabualry of words, we will make a vocabulary of characters.\n",
    "\n",
    "1. Make a vocabulary of all characters\n",
    "2. Make `char2idx`\n",
    "3. Make a class `Tokenizer` that stores `char2idx` and has two methods: `encode` and `decode` that encode and decode text using `char2idx` and `idx2char` dictionaries.\n",
    "   * You might find it useful to create `idx2char` dictionary inside the `__init__` method of the `Tokenizer` class.\n",
    "4. Create a `Tokenizer` object\n",
    "5. Convert the text to a list of integers using `char2idx`, assign it to a variable named `data`\n",
    "6. Print the first 100 items of `data`\n",
    "\n",
    "It's useful to have a function that converts a sequence of indices to a string. You will need it to convert the output of the model to a text when you will be generating text, but is it also very useful for **debugging** your pre-processing code.\n",
    "\n",
    "### Grading criteria\n",
    "**(2 points max)**\n",
    "\n",
    "1. 1 point for `char2idx` dictionary\n",
    "2. 1 point for `Tokenizer` class that passes the tests below"
   ]
  },
  {
   "cell_type": "code",
   "execution_count": null,
   "metadata": {},
   "outputs": [],
   "source": [
    "# YOUR CODE STARTS HERE (our implementation is about 4 lines using comprehensions, but it's alright if yours is longer)\n",
    "\n",
    "# YOUR CODE ENDS HERE"
   ]
  },
  {
   "cell_type": "code",
   "execution_count": null,
   "metadata": {},
   "outputs": [],
   "source": [
    "_tokenizer = Tokenizer(char2idx)\n",
    "\n",
    "_token_ids = _tokenizer.encode(\"hello\")\n",
    "_text = _tokenizer.decode(_token_ids)\n",
    "\n",
    "assert isinstance(_token_ids, list), \"token_ids should be a list\"\n",
    "assert isinstance(_token_ids[0], int), \"token_ids should be a list of integers\"\n",
    "assert _text == \"hello\", \"decode should work correctly and return the original text\"\n",
    "\n",
    "del _tokenizer, _token_ids, _text"
   ]
  },
  {
   "attachments": {},
   "cell_type": "markdown",
   "metadata": {},
   "source": [
    "# Chunk the data\n",
    "\n",
    "Our data is too long to be processed in one go. We will split it into chunks of length 128. We will use the first 128 characters to predict the next character. This is a decent length for a sequence, but you can play with it if you want.\n",
    "\n",
    "## Coding task 3.3\n",
    "\n",
    "1. Create a list of sequences of length `MAX_LEN + 1`. Each sequence should be a list of integers. You'll see why we need `+ 1` in a minute.\n",
    "   * You might need to get rid of your last example if it's shorter than `MAX_LEN + 1` characters. We need all data to be of the same length to simplify batching.\n",
    "   * In the next homework we will implement batchihg for sequences of different lengths and you are probably not going to enjoy it, it's a bit tricky.\n",
    "2. Split the data into training and validation sets. Use 90% of the data for training and 10% for validation.\n",
    "3. Make x and y pairs for your data. Remember that we want to use the first 128 characters to predict the next character. So, `x` should be the first 128 characters and `y` should be a shifted version of the same sequence, so it's the last 128 characters. Name them `train_x` and `train_y` for the training set and `val_x` and `val_y` for the validation set.\n",
    "4. Print an example from the training set. You should see that the first 128 characters are the same as the first 128 characters of the original text, and the last 128 characters are the same as the last 128 characters of the original text, shifted by one character.\n",
    "\n",
    "You can just stride using `data[i:i+128]` for each `i` in `range(0, len(data), 128)`, no need to do anything fancy. You can figure out more complex ways to do it, just do this after all the homework is done. You receive no extra points if your homework is not finished.\n",
    "\n",
    "### Grading criteria\n",
    "\n",
    "1. 1 point for `data_chunks` list and train-test split\n",
    "2. 1 point for dataset and dataloader objects\n",
    "3. Extra point for a more interesting way to chunk the text\n",
    "4. Extra point for implementing a custom dataset class"
   ]
  },
  {
   "cell_type": "code",
   "execution_count": null,
   "metadata": {},
   "outputs": [],
   "source": [
    "MAX_LEN = 128\n",
    "\n",
    "# YOUR CODE STARTS HERE (our implementation is about 13 lines, but it's alright if yours is different)\n",
    "\n",
    "# YOUR CODE ENDS HERE"
   ]
  },
  {
   "attachments": {},
   "cell_type": "markdown",
   "metadata": {},
   "source": [
    "# Using `torch.utils.data`\n",
    "\n",
    "We will use `torch.utils.data.Dataset` to create a dataset object that will be used to create a `torch.utils.data.DataLoader` object. The `DataLoader` object will be used to create batches of data.\n",
    "\n",
    "## Coding task 3.4\n",
    "\n",
    "Your task is to learn how to use `torch.utils.data.Dataset` and `torch.utils.data.DataLoader` classes and to apply them to our data.\n",
    "\n",
    "1. Convert your data to tensors of type long\n",
    "1. Create a `torch.utils.data.Dataset` object for each train and test data. Name them `train_dataset` and `val_dataset`. You can use the `TensorDataset` class for this or make a new class that inherits from `torch.utils.data.Dataset` and implements the `__getitem__` and `__len__` methods.\n",
    "2. Try indexing `train_dataset` to get a single example and decode it using `tokenizer.decode()`. What does it contain? Use tokenizer to decode one example (both x and y). Does it look like a valid text? Are the targets shifted by one character?\n",
    "1. Use the `DataLoader` class to create `train_loader` and `val_loader` objects. It will shuffle and batch data for you. You can use the following parameters:\n",
    "   * `dataset` - the dataset object you created in the previous step\n",
    "   * `batch_size` - your choice!\n",
    "   * `shuffle` - True for training data, False for validation data\n",
    "   * `num_workers` - 8, number of CPU cores to use for batch preparation\n",
    "3. Try iterating over `train_loader` and print the shapes of the batches.\n",
    "    * You can use `break` to stop the loop after the first iteration.\n",
    "4. Try decoding a batch that you get from `train_loader`. Does it look like a valid text? Are the targets shifted by one character?\n",
    "\n",
    "Learn more about data feeding in pytorch here: https://pytorch.org/tutorials/beginner/basics/data_tutorial.html\n",
    "\n",
    "\n",
    "**NOTE:**\n",
    "1. `TensorDataset` returns a tuple of tensors. Usually these are `(x, y)` pairs, where `x` is the input and `y` is the target. In our case, `x` is the input sequence and `y` is the same sequence shifted by one character. This is how we will train our language model. We will use the first 128 characters to predict the next character.\n",
    "1. You need to convert your pytorch tensor into a python list in order to use `tokenizer.decode()`. Feel free to do it in-place or modify the `decode` method of the `Tokenizer` class to accept **BOTH** python lists and pytorch tensors. You can check what datatype you have using `isinstance()` function.\n",
    "2. Printing might look a bit weird because you have a lot of `\\n` in the data. It is alright, just be careful when you are verifying that your data is correct.\n",
    "\n",
    "### Grading criteria\n",
    "\n",
    "* 1 point for `train_dataset` and `val_dataset` objects\n",
    "* 1 point if each test is written and passed:\n",
    "  * train dataset element is correctly processed and x and y corespond to the correct characters\n",
    "  * printed the shapes of the items that you get from `train_loader`\n",
    "  * decoded a batch from `train_loader` and printed the decoded text and it is correct"
   ]
  },
  {
   "cell_type": "code",
   "execution_count": null,
   "metadata": {},
   "outputs": [],
   "source": [
    "BATCH_SIZE = 3  # think about a better batch size for training, this is just a placeholder\n",
    "\n",
    "# YOUR CODE STARTS HERE (our implementation is about 13 lines)\n",
    "\n",
    "# YOUR CODE ENDS HERE"
   ]
  },
  {
   "attachments": {},
   "cell_type": "markdown",
   "metadata": {},
   "source": [
    "# Train a Transformer model\n",
    "\n",
    "Import your `TransformerLM` model from `modeling_transormer` file and train it on the data you prepared above.\n",
    "You know the drill: define a model, an optimizer, and a training loop, log everything to wandb.\n",
    "You can also save your model using `TransformerLM.save_pretrained()` method and load it using `TransformerLM.from_pretrained()` method in case you want to.\n",
    "\n",
    "### Tricky part\n",
    "\n",
    "In PyTorch, `F.cross_entropy` expects the logits to be of shape `(batch_size, num_classes)` and the targets to be of shape `(batch_size,)` containing the class indices. In our case, the logits tensor has the shape `(batch_size, seq_len, num_classes)` and the targets are of shape `(batch_size, seq_len)`. We need to reshape the input and the targets to make them compatible with `F.cross_entropy`. You can do it like this:\n",
    "\n",
    "```python\n",
    "bs, seq_len, num_classes = logits.shape\n",
    "logits = logits.reshape(bs * seq_len, num_classes)\n",
    "targets = targets.reshape(bs * seq_len)\n",
    "```\n",
    "\n",
    "or, equivalently, like this:\n",
    "\n",
    "```python\n",
    "logits = logits.view(-1, num_classes)\n",
    "targets = targets.view(-1)\n",
    "```\n",
    "\n",
    "Try monitoring your GPU consumption and max it out. The more efficient your code is, the faster your model will train.\n",
    "During training log your loss and and accuracy. You can only log accuracy every 100 batches or so, because it is a bit slow to compute. You can also log the learning rate.\n",
    "During evlauation you just need to log the perplexity, the loss, and accuracy. Perplexity is just `exp(loss)`.\n",
    "Accuracy is not the most standard metric for language models, but it is very intererpretable and easy to compute. Don't expect it to be high, though.\n",
    "Be mindful how frequenly you evaluate your model. You don't want to evaluate it too often, because it will slow down your training loop.\n",
    "\n",
    "> You can also log the number of batches you process in one second (throughput) as a measure of efficiency. It is not required, but it is a good idea to monitor it.\n",
    "\n",
    "## Coding task 3.5\n",
    "\n",
    "Make a training loop and train your model.\n",
    "\n",
    "### Grading criteria\n",
    "**(5 points + extra points)**\n",
    "\n",
    "* 2 points for trainig loop\n",
    "* 1 point for using the GPU\n",
    "* 1 point for evaluation loop (we recommend to make it into a separate function to make your code more readable)\n",
    "* 1 point for wandb logging of train loss, eval loss, train accuracy, eval accuracy, eval perplexity. You can also log the learning rate, but it is not required.\n",
    "* -1 point if forget to zero your gradients between batches\n",
    "* -1 point if your forget to put your model to evaluation mode during evaluation and back to training mode during training\n",
    "* Extra point for using a learning rate scheduler\n",
    "* Extra point for any other improvements to the training loop\n"
   ]
  },
  {
   "cell_type": "code",
   "execution_count": null,
   "metadata": {},
   "outputs": [],
   "source": [
    "from transformer_lm.modeling_transformer import TransformerLM\n",
    "\n",
    "# YOUR CODE STARTS HERE\n",
    "\n",
    "# YOUR CODE ENDS HERE"
   ]
  },
  {
   "attachments": {},
   "cell_type": "markdown",
   "metadata": {},
   "source": [
    "# Generate text using your model\n",
    "\n",
    "Now it's time to see what this model can do. Implement a generation function.\n",
    "The idea is to start with some prefix text, predict the next character, append it to the prefix, and repeat the process.\n",
    "You can stop generating text when you reach MAX_LEN tokens.\n",
    "\n",
    "Use `torch.no_grad()` context manager to make sure that you don't compute gradients during generation, or it will blow up your GPU memory.\n",
    "\n",
    "## Coding task 3.6\n",
    "\n",
    "Implement a generation function that accepts a prefix text and generates the next tokens up to MAX_LEN.\n",
    "\n",
    "### Grading criteria\n",
    "**(2 points)**\n",
    "\n",
    "* 2 points for generation function\n",
    "* -1 point if you forget to put your model to evaluation mode during generation and back to training mode after generation or if you forget to use `torch.no_grad()` context manager, or if you are not using the GPU."
   ]
  },
  {
   "cell_type": "code",
   "execution_count": null,
   "metadata": {},
   "outputs": [],
   "source": [
    "# YOUR CODE STARTS HERE (our implementation is about 10 lines)\n",
    "\n",
    "# YOUR CODE ENDS HERE"
   ]
  },
  {
   "attachments": {},
   "cell_type": "markdown",
   "metadata": {},
   "source": [
    "# Exploring hyperparameters and understanding Transformers\n",
    "\n",
    "Train at least 10 models with different hyperparameters and compare them using wandb. Write a short report.\n",
    "\n",
    "\n",
    "### Grading criteria\n",
    "**(5 points max + extra points)**\n",
    "\n",
    "* 4 points for training 10+ models. 2 points if 5-9 models are trained.\n",
    "* 1 point for training report that describes what you did and what you learned about the hyperparameters and efficient training.\n",
    "* Extra point for every 10 more models trained (up to 10 extra points). Please be reasonalbe, training a model for 10 seconds does not count, they need to be if not converged, at least trained for a while."
   ]
  }
 ],
 "metadata": {
  "kernelspec": {
   "display_name": "base",
   "language": "python",
   "name": "base"
  },
  "language_info": {
   "codemirror_mode": {
    "name": "ipython",
    "version": 3
   },
   "file_extension": ".py",
   "mimetype": "text/x-python",
   "name": "python",
   "nbconvert_exporter": "python",
   "pygments_lexer": "ipython3",
   "version": "3.8.3"
  },
  "orig_nbformat": 4
 },
 "nbformat": 4,
 "nbformat_minor": 2
}
