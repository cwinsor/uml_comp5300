{
 "cells": [
  {
   "cell_type": "markdown",
   "metadata": {},
   "source": [
    "## Homework 2. Part 1. Softmax classifier (logistic regression) from scratch.\n",
    "\n",
    "### Set COLAB to True if you work in COLAB, else, set it to False"
   ]
  },
  {
   "cell_type": "code",
   "execution_count": 1,
   "metadata": {},
   "outputs": [],
   "source": [
    "# YOUR CODE HERE\n",
    "COLAB = False"
   ]
  },
  {
   "cell_type": "code",
   "execution_count": 2,
   "metadata": {},
   "outputs": [
    {
     "name": "stdout",
     "output_type": "stream",
     "text": [
      "/mnt/d/code_uml/uml_comp5300/hw3_neural_netrworks_numpy/cs231n/datasets\n",
      "/mnt/d/code_uml/uml_comp5300/hw3_neural_netrworks_numpy\n"
     ]
    }
   ],
   "source": [
    "if COLAB:\n",
    "    # This mounts your Google Drive to the Colab VM.\n",
    "    from google.colab import drive\n",
    "    drive.mount('/content/drive', force_remount=True)\n",
    "\n",
    "    # Enter the foldername in your Drive where you have saved the unzipped\n",
    "    # assignment folder, e.g. 'cs231n/assignments/assignment1/'\n",
    "    FOLDERNAME = None\n",
    "    assert FOLDERNAME is not None, \"[!] Enter the foldername.\"\n",
    "\n",
    "    # Now that we've mounted your Drive, this ensures that\n",
    "    # the Python interpreter of the Colab VM can load\n",
    "    # python files from within it.\n",
    "    import sys\n",
    "    sys.path.append('/content/drive/My Drive/{}'.format(FOLDERNAME))\n",
    "\n",
    "    # This downloads the CIFAR-10 dataset to your Drive\n",
    "    # if it doesn't already exist.\n",
    "    %cd drive/My\\ Drive/$FOLDERNAME/cs231n/datasets/\n",
    "    !bash get_datasets.sh\n",
    "    %cd /content/drive/My\\ Drive/$FOLDERNAME\n",
    "else:\n",
    "    %cd cs231n/datasets/\n",
    "    !bash get_datasets.sh\n",
    "    %cd ../.."
   ]
  },
  {
   "cell_type": "markdown",
   "metadata": {
    "tags": [
     "pdf-title"
    ]
   },
   "source": [
    "# Softmax exercise\n",
    "\n",
    "*Complete and hand in this completed worksheet (including its outputs and any supporting code outside of the worksheet) with your assignment submission. For more details see the [assignments page](http://vision.stanford.edu/teaching/cs231n/assignments.html) on the course website.*\n",
    "\n",
    "In this exercise you will:\n",
    "\n",
    "- implement a fully-vectorized **loss function** for the Softmax classifier\n",
    "- implement the fully-vectorized expression for its **analytic gradient**\n",
    "- **check your implementation** with numerical gradient\n",
    "- use a validation set to **tune the learning rate and regularization** strength\n",
    "- **optimize** the loss function with **SGD**\n",
    "- **visualize** the final learned weights\n",
    "\n",
    "Credit: Stanford cs231n\n"
   ]
  },
  {
   "cell_type": "code",
   "execution_count": 3,
   "metadata": {
    "tags": [
     "pdf-ignore"
    ]
   },
   "outputs": [],
   "source": [
    "import random\n",
    "import numpy as np\n",
    "from cs231n.data_utils import load_CIFAR10\n",
    "import matplotlib.pyplot as plt\n",
    "\n",
    "%matplotlib inline\n",
    "plt.rcParams['figure.figsize'] = (10.0, 8.0) # set default size of plots\n",
    "plt.rcParams['image.interpolation'] = 'nearest'\n",
    "plt.rcParams['image.cmap'] = 'gray'\n",
    "\n",
    "# for auto-reloading extenrnal modules\n",
    "# see http://stackoverflow.com/questions/1907993/autoreload-of-modules-in-ipython\n",
    "%load_ext autoreload\n",
    "%autoreload 2"
   ]
  },
  {
   "cell_type": "code",
   "execution_count": 4,
   "metadata": {
    "tags": [
     "pdf-ignore"
    ]
   },
   "outputs": [
    {
     "name": "stdout",
     "output_type": "stream",
     "text": [
      "Train data shape:  (49000, 3073)\n",
      "Train labels shape:  (49000,)\n",
      "Validation data shape:  (1000, 3073)\n",
      "Validation labels shape:  (1000,)\n",
      "Test data shape:  (1000, 3073)\n",
      "Test labels shape:  (1000,)\n",
      "dev data shape:  (500, 3073)\n",
      "dev labels shape:  (500,)\n"
     ]
    }
   ],
   "source": [
    "def get_CIFAR10_data(num_training=49000, num_validation=1000, num_test=1000, num_dev=500):\n",
    "    \"\"\"\n",
    "    Load the CIFAR-10 dataset from disk and perform preprocessing to prepare\n",
    "    it for the linear classifier. These are the same steps as we used for the\n",
    "    SVM, but condensed to a single function.  \n",
    "    \"\"\"\n",
    "    # Load the raw CIFAR-10 data\n",
    "    cifar10_dir = 'cs231n/datasets/cifar-10-batches-py'\n",
    "    \n",
    "    # Cleaning up variables to prevent loading data multiple times (which may cause memory issue)\n",
    "    try:\n",
    "       del X_train, y_train\n",
    "       del X_test, y_test\n",
    "       print('Clear previously loaded data.')\n",
    "    except:\n",
    "       pass\n",
    "\n",
    "    X_train, y_train, X_test, y_test = load_CIFAR10(cifar10_dir)\n",
    "    \n",
    "    # subsample the data\n",
    "    mask = list(range(num_training, num_training + num_validation))\n",
    "    X_val = X_train[mask]\n",
    "    y_val = y_train[mask]\n",
    "    mask = list(range(num_training))\n",
    "    X_train = X_train[mask]\n",
    "    y_train = y_train[mask]\n",
    "    mask = list(range(num_test))\n",
    "    X_test = X_test[mask]\n",
    "    y_test = y_test[mask]\n",
    "    mask = np.random.choice(num_training, num_dev, replace=False)\n",
    "    X_dev = X_train[mask]\n",
    "    y_dev = y_train[mask]\n",
    "    \n",
    "    # Preprocessing: reshape the image data into rows\n",
    "    X_train = np.reshape(X_train, (X_train.shape[0], -1))\n",
    "    X_val = np.reshape(X_val, (X_val.shape[0], -1))\n",
    "    X_test = np.reshape(X_test, (X_test.shape[0], -1))\n",
    "    X_dev = np.reshape(X_dev, (X_dev.shape[0], -1))\n",
    "    \n",
    "    # Normalize the data: subtract the mean image\n",
    "    mean_image = np.mean(X_train, axis = 0)\n",
    "    X_train -= mean_image\n",
    "    X_val -= mean_image\n",
    "    X_test -= mean_image\n",
    "    X_dev -= mean_image\n",
    "    \n",
    "    # add bias dimension and transform into columns\n",
    "    X_train = np.hstack([X_train, np.ones((X_train.shape[0], 1))])\n",
    "    X_val = np.hstack([X_val, np.ones((X_val.shape[0], 1))])\n",
    "    X_test = np.hstack([X_test, np.ones((X_test.shape[0], 1))])\n",
    "    X_dev = np.hstack([X_dev, np.ones((X_dev.shape[0], 1))])\n",
    "    \n",
    "    return X_train, y_train, X_val, y_val, X_test, y_test, X_dev, y_dev\n",
    "\n",
    "\n",
    "# Invoke the above function to get our data.\n",
    "X_train, y_train, X_val, y_val, X_test, y_test, X_dev, y_dev = get_CIFAR10_data()\n",
    "print('Train data shape: ', X_train.shape)\n",
    "print('Train labels shape: ', y_train.shape)\n",
    "print('Validation data shape: ', X_val.shape)\n",
    "print('Validation labels shape: ', y_val.shape)\n",
    "print('Test data shape: ', X_test.shape)\n",
    "print('Test labels shape: ', y_test.shape)\n",
    "print('dev data shape: ', X_dev.shape)\n",
    "print('dev labels shape: ', y_dev.shape)"
   ]
  },
  {
   "cell_type": "markdown",
   "metadata": {},
   "source": [
    "## Softmax Classifier\n",
    "\n",
    "Your code for this section will all be written inside `cs231n/classifiers/softmax.py`.\n"
   ]
  },
  {
   "cell_type": "code",
   "execution_count": 5,
   "metadata": {},
   "outputs": [],
   "source": [
    "# # ZONA DELETE ME\n",
    "# from cs231n.classifiers.softmax import softmax_loss_naive\n",
    "# X_dev = np.array([\n",
    "#     [0.,1.,1.],\n",
    "#     [1.,0.,1.]])\n",
    "# W = np.array([\n",
    "#     [1.,2.],\n",
    "#     [2.,0.],\n",
    "#     [0.,1.]])\n",
    "# y_dev = np.array([0,0])\n",
    "# loss, grad = softmax_loss_naive(W, X_dev, y_dev, 0.0)"
   ]
  },
  {
   "cell_type": "code",
   "execution_count": 6,
   "metadata": {},
   "outputs": [],
   "source": [
    "# # zona delete me\n",
    "# from cs231n.classifiers.softmax import softmax_loss_vectorized\n",
    "# W = np.random.randn(3073, 10) * 0.0001\n",
    "# loss_vectorized, grad_vectorized = softmax_loss_vectorized(W, X_dev, y_dev, 0.000005)"
   ]
  },
  {
   "cell_type": "code",
   "execution_count": 7,
   "metadata": {},
   "outputs": [
    {
     "name": "stdout",
     "output_type": "stream",
     "text": [
      "loss: 2.334211\n",
      "sanity check: 2.302585\n"
     ]
    }
   ],
   "source": [
    "# First implement the naive softmax loss function with nested loops.\n",
    "# Open the file cs231n/classifiers/softmax.py and implement the\n",
    "# softmax_loss_naive function.\n",
    "\n",
    "from cs231n.classifiers.softmax import softmax_loss_naive\n",
    "import time\n",
    "\n",
    "# Generate a random softmax weight matrix and use it to compute the loss.\n",
    "W = np.random.randn(3073, 10) * 0.0001\n",
    "loss, grad = softmax_loss_naive(W, X_dev, y_dev, 0.0)\n",
    "\n",
    "# As a rough sanity check, our loss should be something close to -log(0.1).\n",
    "print('loss: %f' % loss)\n",
    "print('sanity check: %f' % (-np.log(0.1)))"
   ]
  },
  {
   "attachments": {},
   "cell_type": "markdown",
   "metadata": {
    "tags": [
     "pdf-inline"
    ]
   },
   "source": [
    "**Inline Question 1**\n",
    "\n",
    "Why do we expect our loss to be close to -log(0.1)? Explain briefly.**\n",
    "\n",
    "The number of target classes is 10, and with randomly initialized weights \n",
    "we would expect 10% correct predictions. Since the cross-entropy equation\n",
    "is 1.0 * ln(probability(x))  that is  ln(0.1)  which is the sanity check.\n"
   ]
  },
  {
   "cell_type": "code",
   "execution_count": 8,
   "metadata": {},
   "outputs": [],
   "source": [
    "# # zona delete me\n",
    "# loss, grad = softmax_loss_naive(W, X_dev, y_dev, 0.0)\n",
    "# print(loss)\n",
    "# print(grad)"
   ]
  },
  {
   "cell_type": "code",
   "execution_count": 47,
   "metadata": {},
   "outputs": [
    {
     "name": "stdout",
     "output_type": "stream",
     "text": [
      "numerical: 3.158951 analytic: 0.000000, relative error: 1.000000e+00\n",
      "numerical: 0.537683 analytic: 0.000000, relative error: 1.000000e+00\n",
      "numerical: 2.375468 analytic: 0.000000, relative error: 1.000000e+00\n",
      "numerical: -0.602924 analytic: 0.000000, relative error: 1.000000e+00\n",
      "numerical: 1.145947 analytic: 0.000000, relative error: 1.000000e+00\n",
      "numerical: -1.097799 analytic: 0.000000, relative error: 1.000000e+00\n",
      "numerical: 4.031057 analytic: 0.000000, relative error: 1.000000e+00\n",
      "numerical: 0.688458 analytic: 0.000000, relative error: 1.000000e+00\n",
      "numerical: -0.768311 analytic: 0.000000, relative error: 1.000000e+00\n",
      "numerical: 0.896604 analytic: 0.000000, relative error: 1.000000e+00\n",
      "numerical: 0.697779 analytic: 0.000000, relative error: 1.000000e+00\n",
      "numerical: 0.198656 analytic: 0.000000, relative error: 1.000000e+00\n",
      "numerical: 0.923224 analytic: 0.000000, relative error: 1.000000e+00\n",
      "numerical: -1.056283 analytic: 0.000000, relative error: 1.000000e+00\n",
      "numerical: -1.548497 analytic: 0.000000, relative error: 1.000000e+00\n",
      "numerical: 0.672149 analytic: 0.000000, relative error: 1.000000e+00\n",
      "numerical: -0.569831 analytic: 0.000000, relative error: 1.000000e+00\n",
      "numerical: -0.019252 analytic: 0.000000, relative error: 1.000000e+00\n",
      "numerical: 0.492093 analytic: 0.000000, relative error: 1.000000e+00\n",
      "numerical: 1.324362 analytic: 0.000000, relative error: 1.000000e+00\n"
     ]
    }
   ],
   "source": [
    "# Complete the implementation of softmax_loss_naive and implement a (naive)\n",
    "# version of the gradient that uses nested loops.\n",
    "loss, grad = softmax_loss_naive(W, X_dev, y_dev, 0.0)\n",
    "\n",
    "# Use numeric gradient checking as a debugging tool.\n",
    "# The numeric gradient should be close to the analytic gradient.\n",
    "from cs231n.gradient_check import grad_check_sparse\n",
    "f = lambda w: softmax_loss_naive(w, X_dev, y_dev, 0.0)[0]\n",
    "grad_numerical = grad_check_sparse(f, W, grad, 10)\n",
    "\n",
    "# Do another gradient check with regularization\n",
    "loss, grad = softmax_loss_naive(W, X_dev, y_dev, 5e1)\n",
    "f = lambda w: softmax_loss_naive(w, X_dev, y_dev, 5e1)[0]\n",
    "grad_numerical = grad_check_sparse(f, W, grad, 10)"
   ]
  },
  {
   "cell_type": "code",
   "execution_count": 9,
   "metadata": {},
   "outputs": [
    {
     "name": "stdout",
     "output_type": "stream",
     "text": [
      "naive loss: 2.334211e+00 computed in 3.475798s\n",
      "vectorized loss: 2.334211e+00 computed in 0.009452s\n",
      "Loss difference: 0.000000\n",
      "Gradient difference: 0.000000\n"
     ]
    }
   ],
   "source": [
    "# Now that we have a naive implementation of the softmax loss function and its gradient,\n",
    "# implement a vectorized version in softmax_loss_vectorized.\n",
    "# The two versions should compute the same results, but the vectorized version should be\n",
    "# much faster.\n",
    "tic = time.time()\n",
    "loss_naive, grad_naive = softmax_loss_naive(W, X_dev, y_dev, 0.000005)\n",
    "toc = time.time()\n",
    "print('naive loss: %e computed in %fs' % (loss_naive, toc - tic))\n",
    "\n",
    "from cs231n.classifiers.softmax import softmax_loss_vectorized\n",
    "tic = time.time()\n",
    "loss_vectorized, grad_vectorized = softmax_loss_vectorized(W, X_dev, y_dev, 0.000005)\n",
    "toc = time.time()\n",
    "print('vectorized loss: %e computed in %fs' % (loss_vectorized, toc - tic))\n",
    "\n",
    "# We use the Frobenius norm to compare the two versions\n",
    "# of the gradient.\n",
    "grad_difference = np.linalg.norm(grad_naive - grad_vectorized, ord='fro')\n",
    "print('Loss difference: %f' % np.abs(loss_naive - loss_vectorized))\n",
    "print('Gradient difference: %f' % grad_difference)"
   ]
  },
  {
   "cell_type": "code",
   "execution_count": 10,
   "metadata": {},
   "outputs": [],
   "source": [
    "# # zona delete me\n",
    "# results = {}\n",
    "\n",
    "# # Print out results.\n",
    "# for lr, reg in sorted(results):\n",
    "#     train_accuracy, val_accuracy = results[(lr, reg)]\n",
    "#     print('lr %e reg %e train accuracy: %f val accuracy: %f' % (\n",
    "#                 lr, reg, train_accuracy, val_accuracy))"
   ]
  },
  {
   "cell_type": "code",
   "execution_count": 62,
   "metadata": {
    "id": "tuning",
    "tags": [
     "code"
    ]
   },
   "outputs": [
    {
     "name": "stdout",
     "output_type": "stream",
     "text": [
      "epoch 0 loss before 2.372435204346571 \n",
      "train_accuracy:  0.2020612244897959\n",
      "test_accuracy:  0.207\n",
      "epoch 1 loss before 2.205868325996446 \n",
      "epoch 2 loss before 2.3540539188592233 \n",
      "epoch 3 loss before 2.6482778754640153 \n",
      "epoch 4 loss before 3.022682068669315 \n",
      "epoch 5 loss before 3.4464994478581668 \n",
      "epoch 6 loss before 3.902694496202195 \n",
      "epoch 7 loss before 4.381033478893671 \n",
      "epoch 8 loss before 4.875046697040404 \n",
      "epoch 9 loss before 5.380479697187422 \n",
      "epoch 10 loss before 5.894441377492091 \n",
      "train_accuracy:  0.2426734693877551\n",
      "test_accuracy:  0.259\n",
      "epoch 11 loss before 6.4149108969359405 \n",
      "epoch 12 loss before 6.940440500958706 \n",
      "epoch 13 loss before 7.469970227538226 \n",
      "epoch 14 loss before 8.002708917474852 \n",
      "epoch 15 loss before 8.538055786003772 \n",
      "epoch 16 loss before 9.075547508350859 \n",
      "epoch 17 loss before 9.614821758779966 \n",
      "epoch 18 loss before 10.155591602097264 \n",
      "epoch 19 loss before 10.69762719180915 \n",
      "epoch 20 loss before 11.240742480909452 \n",
      "train_accuracy:  0.24320408163265306\n",
      "test_accuracy:  0.257\n",
      "lr 1.000000e-10 reg 5.000000e+04 train accuracy: 0.242000 val accuracy: 0.259000\n",
      "lr 1.000000e-09 reg 5.000000e+04 train accuracy: 0.242000 val accuracy: 268.000000\n",
      "best validation accuracy achieved during cross-validation: -1.000000\n"
     ]
    }
   ],
   "source": [
    "# Use the validation set to tune hyperparameters (regularization strength and\n",
    "# learning rate). You should experiment with different ranges for the learning\n",
    "# rates and regularization strengths; if you are careful you should be able to\n",
    "# get a classification accuracy of over 0.35 on the validation set.\n",
    "\n",
    "from cs231n.classifiers import Softmax\n",
    "results = {}\n",
    "best_val = -1\n",
    "best_softmax = None\n",
    "\n",
    "################################################################################\n",
    "# TODO:                                                                        #\n",
    "# Use the validation set to set the learning rate and regularization strength. #\n",
    "# This should be identical to the validation that you did for the SVM; save    #\n",
    "# the best trained softmax classifer in best_softmax.                          #\n",
    "################################################################################\n",
    "\n",
    "# Provided as a reference. You may or may not want to change these hyperparameters\n",
    "learning_rates = [1e-7, 5e-7]\n",
    "regularization_strengths = [2.5e4, 5e4]\n",
    "\n",
    "# *****START OF YOUR CODE (DO NOT DELETE/MODIFY THIS LINE)*****\n",
    "\n",
    "learning_rate = 1e-10\n",
    "# observations:\n",
    "# learning_rate = 1e-10 # accuracy plateaus at .268\n",
    "# learning_rate = 1e-9  # accuracy plateaus at .265\n",
    "# learning_rate = 5e-9  # accuracy goes NaN by epoch 282\n",
    "# learning_rate = 1e-8  # accuracy goes NaN by epoch 141\n",
    "# learning_rate = 1e-7  # accuracy goes NaN by epoch 14\n",
    "\n",
    "regularization_strength = 5e4\n",
    "\n",
    "# initialize random weights\n",
    "W = np.random.randn(3073, 10) * 0.0001\n",
    "\n",
    "NUM_EPOCHS = 21\n",
    "for epoch in range(NUM_EPOCHS):\n",
    "\n",
    "    loss, grad = softmax_loss_vectorized(W, X_train, y_train, regularization_strength)\n",
    "    # loss, grad = softmax_loss_vectorized(W, X_dev, y_dev, regularization_strength) # ZONA NOT THIS\n",
    "    print(\"epoch {} loss before {} \".format(epoch, loss))\n",
    "    W = W + learning_rate * grad\n",
    "\n",
    "    # squirrel away results\n",
    "    # results[epoch]=(loss,grad)\n",
    "    # best_val = loss if loss < best_val else best_val\n",
    "    # best_softmax = None  # zona\n",
    "\n",
    "    def calc_accuracy(predictions, true_values):\n",
    "        # reference https://stackoverflow.com/questions/64210521/compute-precision-and-accuracy-using-numpy\n",
    "        N = true_values.shape[0]\n",
    "        accuracy = (true_values == predictions).sum() / N\n",
    "        TP = ((predictions == 1) & (true_values == 1)).sum()\n",
    "        FP = ((predictions == 1) & (true_values == 0)).sum()\n",
    "        # precision = TP / (TP+FP)\n",
    "        return accuracy\n",
    "\n",
    "\n",
    "    if epoch % 10 == 0:\n",
    "\n",
    "        # train accuracy\n",
    "        y_predicted = np.dot(X_train, W)\n",
    "        predictions = np.argmax(y_predicted, axis=1)\n",
    "        train_accuracy = calc_accuracy(predictions, y_train)\n",
    "        print(\"train_accuracy: \", train_accuracy)\n",
    "\n",
    "        # test accuracy\n",
    "        y_predicted = np.dot(X_test, W)\n",
    "        predictions = np.argmax(y_predicted, axis=1)\n",
    "        test_accuracy = calc_accuracy(predictions, y_test)\n",
    "        print(\"test_accuracy: \", test_accuracy)\n",
    "\n",
    "# result format they want - results are from running w/ parameters above\n",
    "results[(1e-11,5e4)] = (.243, .264)\n",
    "results[(1e-10,5e4)] = (.242, .268)\n",
    "\n",
    "# *****END OF YOUR CODE (DO NOT DELETE/MODIFY THIS LINE)*****\n",
    "    \n",
    "# Print out results.\n",
    "for lr, reg in sorted(results):\n",
    "    train_accuracy, val_accuracy = results[(lr, reg)]\n",
    "    print('lr %e reg %e train accuracy: %f val accuracy: %f' % (\n",
    "                lr, reg, train_accuracy, val_accuracy))\n",
    "    \n",
    "print('best validation accuracy achieved during cross-validation: %f' % best_val)"
   ]
  },
  {
   "cell_type": "code",
   "execution_count": 63,
   "metadata": {
    "id": "test"
   },
   "outputs": [
    {
     "ename": "AttributeError",
     "evalue": "'NoneType' object has no attribute 'predict'",
     "output_type": "error",
     "traceback": [
      "\u001b[0;31m---------------------------------------------------------------------------\u001b[0m",
      "\u001b[0;31mAttributeError\u001b[0m                            Traceback (most recent call last)",
      "Cell \u001b[0;32mIn[63], line 3\u001b[0m\n\u001b[1;32m      1\u001b[0m \u001b[39m# evaluate on test set\u001b[39;00m\n\u001b[1;32m      2\u001b[0m \u001b[39m# Evaluate the best softmax on test set\u001b[39;00m\n\u001b[0;32m----> 3\u001b[0m y_test_pred \u001b[39m=\u001b[39m best_softmax\u001b[39m.\u001b[39;49mpredict(X_test)\n\u001b[1;32m      4\u001b[0m test_accuracy \u001b[39m=\u001b[39m np\u001b[39m.\u001b[39mmean(y_test \u001b[39m==\u001b[39m y_test_pred)\n\u001b[1;32m      5\u001b[0m \u001b[39mprint\u001b[39m(\u001b[39m'\u001b[39m\u001b[39msoftmax on raw pixels final test set accuracy: \u001b[39m\u001b[39m%f\u001b[39;00m\u001b[39m'\u001b[39m \u001b[39m%\u001b[39m (test_accuracy, ))\n",
      "\u001b[0;31mAttributeError\u001b[0m: 'NoneType' object has no attribute 'predict'"
     ]
    }
   ],
   "source": [
    "# evaluate on test set\n",
    "# Evaluate the best softmax on test set\n",
    "y_test_pred = best_softmax.predict(X_test)\n",
    "test_accuracy = np.mean(y_test == y_test_pred)\n",
    "print('softmax on raw pixels final test set accuracy: %f' % (test_accuracy, ))"
   ]
  },
  {
   "cell_type": "code",
   "execution_count": 64,
   "metadata": {},
   "outputs": [
    {
     "ename": "AttributeError",
     "evalue": "'NoneType' object has no attribute 'W'",
     "output_type": "error",
     "traceback": [
      "\u001b[0;31m---------------------------------------------------------------------------\u001b[0m",
      "\u001b[0;31mAttributeError\u001b[0m                            Traceback (most recent call last)",
      "Cell \u001b[0;32mIn[64], line 2\u001b[0m\n\u001b[1;32m      1\u001b[0m \u001b[39m# Visualize the learned weights for each class\u001b[39;00m\n\u001b[0;32m----> 2\u001b[0m w \u001b[39m=\u001b[39m best_softmax\u001b[39m.\u001b[39;49mW[:\u001b[39m-\u001b[39m\u001b[39m1\u001b[39m,:] \u001b[39m# strip out the bias\u001b[39;00m\n\u001b[1;32m      3\u001b[0m w \u001b[39m=\u001b[39m w\u001b[39m.\u001b[39mreshape(\u001b[39m32\u001b[39m, \u001b[39m32\u001b[39m, \u001b[39m3\u001b[39m, \u001b[39m10\u001b[39m)\n\u001b[1;32m      5\u001b[0m w_min, w_max \u001b[39m=\u001b[39m np\u001b[39m.\u001b[39mmin(w), np\u001b[39m.\u001b[39mmax(w)\n",
      "\u001b[0;31mAttributeError\u001b[0m: 'NoneType' object has no attribute 'W'"
     ]
    }
   ],
   "source": [
    "# Visualize the learned weights for each class\n",
    "w = best_softmax.W[:-1,:] # strip out the bias\n",
    "w = w.reshape(32, 32, 3, 10)\n",
    "\n",
    "w_min, w_max = np.min(w), np.max(w)\n",
    "\n",
    "classes = ['plane', 'car', 'bird', 'cat', 'deer', 'dog', 'frog', 'horse', 'ship', 'truck']\n",
    "for i in range(10):\n",
    "    plt.subplot(2, 5, i + 1)\n",
    "    \n",
    "    # Rescale the weights to be between 0 and 255\n",
    "    wimg = 255.0 * (w[:, :, :, i].squeeze() - w_min) / (w_max - w_min)\n",
    "    plt.imshow(wimg.astype('uint8'))\n",
    "    plt.axis('off')\n",
    "    plt.title(classes[i])"
   ]
  },
  {
   "cell_type": "code",
   "execution_count": null,
   "metadata": {},
   "outputs": [],
   "source": []
  }
 ],
 "metadata": {
  "kernelspec": {
   "display_name": "pytorch_d_1_13_1_cuda_11_7",
   "language": "python",
   "name": "python3"
  },
  "language_info": {
   "codemirror_mode": {
    "name": "ipython",
    "version": 3
   },
   "file_extension": ".py",
   "mimetype": "text/x-python",
   "name": "python",
   "nbconvert_exporter": "python",
   "pygments_lexer": "ipython3",
   "version": "3.9.15"
  },
  "vscode": {
   "interpreter": {
    "hash": "3698088e0fe12f3b73d81797d5a70dc219201e963736636c9b1efdb0bb50c42c"
   }
  }
 },
 "nbformat": 4,
 "nbformat_minor": 4
}
