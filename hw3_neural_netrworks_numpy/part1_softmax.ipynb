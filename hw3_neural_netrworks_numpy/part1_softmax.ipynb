{
 "cells": [
  {
   "cell_type": "markdown",
   "metadata": {},
   "source": [
    "## Homework 2. Part 1. Softmax classifier (logistic regression) from scratch.\n",
    "\n",
    "### Set COLAB to True if you work in COLAB, else, set it to False"
   ]
  },
  {
   "cell_type": "code",
   "execution_count": 1,
   "metadata": {},
   "outputs": [],
   "source": [
    "# YOUR CODE HERE\n",
    "COLAB = False"
   ]
  },
  {
   "cell_type": "code",
   "execution_count": 2,
   "metadata": {},
   "outputs": [
    {
     "name": "stdout",
     "output_type": "stream",
     "text": [
      "/mnt/d/code_uml/uml_comp5300/hw3_neural_netrworks_numpy/cs231n/datasets\n",
      "--2023-02-13 21:32:21--  http://www.cs.toronto.edu/~kriz/cifar-10-python.tar.gz\n",
      "Resolving www.cs.toronto.edu (www.cs.toronto.edu)... 128.100.3.30\n",
      "Connecting to www.cs.toronto.edu (www.cs.toronto.edu)|128.100.3.30|:80... connected.\n",
      "HTTP request sent, awaiting response... 200 OK\n",
      "Length: 170498071 (163M) [application/x-gzip]\n",
      "Saving to: ‘cifar-10-python.tar.gz’\n",
      "\n",
      "cifar-10-python.tar 100%[===================>] 162.60M  36.7MB/s    in 4.7s    \n",
      "\n",
      "2023-02-13 21:32:26 (34.5 MB/s) - ‘cifar-10-python.tar.gz’ saved [170498071/170498071]\n",
      "\n",
      "cifar-10-batches-py/\n",
      "cifar-10-batches-py/data_batch_4\n",
      "cifar-10-batches-py/readme.html\n",
      "cifar-10-batches-py/test_batch\n",
      "cifar-10-batches-py/data_batch_3\n",
      "cifar-10-batches-py/batches.meta\n",
      "cifar-10-batches-py/data_batch_2\n",
      "cifar-10-batches-py/data_batch_5\n",
      "cifar-10-batches-py/data_batch_1\n",
      "/mnt/d/code_uml/uml_comp5300/hw3_neural_netrworks_numpy\n"
     ]
    }
   ],
   "source": [
    "if COLAB:\n",
    "    # This mounts your Google Drive to the Colab VM.\n",
    "    from google.colab import drive\n",
    "    drive.mount('/content/drive', force_remount=True)\n",
    "\n",
    "    # Enter the foldername in your Drive where you have saved the unzipped\n",
    "    # assignment folder, e.g. 'cs231n/assignments/assignment1/'\n",
    "    FOLDERNAME = None\n",
    "    assert FOLDERNAME is not None, \"[!] Enter the foldername.\"\n",
    "\n",
    "    # Now that we've mounted your Drive, this ensures that\n",
    "    # the Python interpreter of the Colab VM can load\n",
    "    # python files from within it.\n",
    "    import sys\n",
    "    sys.path.append('/content/drive/My Drive/{}'.format(FOLDERNAME))\n",
    "\n",
    "    # This downloads the CIFAR-10 dataset to your Drive\n",
    "    # if it doesn't already exist.\n",
    "    %cd drive/My\\ Drive/$FOLDERNAME/cs231n/datasets/\n",
    "    !bash get_datasets.sh\n",
    "    %cd /content/drive/My\\ Drive/$FOLDERNAME\n",
    "else:\n",
    "    %cd cs231n/datasets/\n",
    "    !bash get_datasets.sh\n",
    "    %cd ../.."
   ]
  },
  {
   "cell_type": "markdown",
   "metadata": {
    "tags": [
     "pdf-title"
    ]
   },
   "source": [
    "# Softmax exercise\n",
    "\n",
    "*Complete and hand in this completed worksheet (including its outputs and any supporting code outside of the worksheet) with your assignment submission. For more details see the [assignments page](http://vision.stanford.edu/teaching/cs231n/assignments.html) on the course website.*\n",
    "\n",
    "In this exercise you will:\n",
    "\n",
    "- implement a fully-vectorized **loss function** for the Softmax classifier\n",
    "- implement the fully-vectorized expression for its **analytic gradient**\n",
    "- **check your implementation** with numerical gradient\n",
    "- use a validation set to **tune the learning rate and regularization** strength\n",
    "- **optimize** the loss function with **SGD**\n",
    "- **visualize** the final learned weights\n",
    "\n",
    "Credit: Stanford cs231n\n"
   ]
  },
  {
   "cell_type": "code",
   "execution_count": 6,
   "metadata": {
    "tags": [
     "pdf-ignore"
    ]
   },
   "outputs": [],
   "source": [
    "import random\n",
    "import numpy as np\n",
    "from cs231n.data_utils import load_CIFAR10\n",
    "import matplotlib.pyplot as plt\n",
    "\n",
    "%matplotlib inline\n",
    "plt.rcParams['figure.figsize'] = (10.0, 8.0) # set default size of plots\n",
    "plt.rcParams['image.interpolation'] = 'nearest'\n",
    "plt.rcParams['image.cmap'] = 'gray'\n",
    "\n",
    "# for auto-reloading extenrnal modules\n",
    "# see http://stackoverflow.com/questions/1907993/autoreload-of-modules-in-ipython\n",
    "%load_ext autoreload\n",
    "%autoreload 2"
   ]
  },
  {
   "cell_type": "code",
   "execution_count": 45,
   "metadata": {
    "tags": [
     "pdf-ignore"
    ]
   },
   "outputs": [
    {
     "name": "stdout",
     "output_type": "stream",
     "text": [
      "Train data shape:  (49000, 3073)\n",
      "Train labels shape:  (49000,)\n",
      "Validation data shape:  (1000, 3073)\n",
      "Validation labels shape:  (1000,)\n",
      "Test data shape:  (1000, 3073)\n",
      "Test labels shape:  (1000,)\n",
      "dev data shape:  (500, 3073)\n",
      "dev labels shape:  (500,)\n"
     ]
    }
   ],
   "source": [
    "def get_CIFAR10_data(num_training=49000, num_validation=1000, num_test=1000, num_dev=500):\n",
    "    \"\"\"\n",
    "    Load the CIFAR-10 dataset from disk and perform preprocessing to prepare\n",
    "    it for the linear classifier. These are the same steps as we used for the\n",
    "    SVM, but condensed to a single function.  \n",
    "    \"\"\"\n",
    "    # Load the raw CIFAR-10 data\n",
    "    cifar10_dir = 'cs231n/datasets/cifar-10-batches-py'\n",
    "    \n",
    "    # Cleaning up variables to prevent loading data multiple times (which may cause memory issue)\n",
    "    try:\n",
    "       del X_train, y_train\n",
    "       del X_test, y_test\n",
    "       print('Clear previously loaded data.')\n",
    "    except:\n",
    "       pass\n",
    "\n",
    "    X_train, y_train, X_test, y_test = load_CIFAR10(cifar10_dir)\n",
    "    \n",
    "    # subsample the data\n",
    "    mask = list(range(num_training, num_training + num_validation))\n",
    "    X_val = X_train[mask]\n",
    "    y_val = y_train[mask]\n",
    "    mask = list(range(num_training))\n",
    "    X_train = X_train[mask]\n",
    "    y_train = y_train[mask]\n",
    "    mask = list(range(num_test))\n",
    "    X_test = X_test[mask]\n",
    "    y_test = y_test[mask]\n",
    "    mask = np.random.choice(num_training, num_dev, replace=False)\n",
    "    X_dev = X_train[mask]\n",
    "    y_dev = y_train[mask]\n",
    "    \n",
    "    # Preprocessing: reshape the image data into rows\n",
    "    X_train = np.reshape(X_train, (X_train.shape[0], -1))\n",
    "    X_val = np.reshape(X_val, (X_val.shape[0], -1))\n",
    "    X_test = np.reshape(X_test, (X_test.shape[0], -1))\n",
    "    X_dev = np.reshape(X_dev, (X_dev.shape[0], -1))\n",
    "    \n",
    "    # Normalize the data: subtract the mean image\n",
    "    mean_image = np.mean(X_train, axis = 0)\n",
    "    X_train -= mean_image\n",
    "    X_val -= mean_image\n",
    "    X_test -= mean_image\n",
    "    X_dev -= mean_image\n",
    "    \n",
    "    # add bias dimension and transform into columns\n",
    "    X_train = np.hstack([X_train, np.ones((X_train.shape[0], 1))])\n",
    "    X_val = np.hstack([X_val, np.ones((X_val.shape[0], 1))])\n",
    "    X_test = np.hstack([X_test, np.ones((X_test.shape[0], 1))])\n",
    "    X_dev = np.hstack([X_dev, np.ones((X_dev.shape[0], 1))])\n",
    "    \n",
    "    return X_train, y_train, X_val, y_val, X_test, y_test, X_dev, y_dev\n",
    "\n",
    "\n",
    "# Invoke the above function to get our data.\n",
    "X_train, y_train, X_val, y_val, X_test, y_test, X_dev, y_dev = get_CIFAR10_data()\n",
    "print('Train data shape: ', X_train.shape)\n",
    "print('Train labels shape: ', y_train.shape)\n",
    "print('Validation data shape: ', X_val.shape)\n",
    "print('Validation labels shape: ', y_val.shape)\n",
    "print('Test data shape: ', X_test.shape)\n",
    "print('Test labels shape: ', y_test.shape)\n",
    "print('dev data shape: ', X_dev.shape)\n",
    "print('dev labels shape: ', y_dev.shape)"
   ]
  },
  {
   "cell_type": "markdown",
   "metadata": {},
   "source": [
    "## Softmax Classifier\n",
    "\n",
    "Your code for this section will all be written inside `cs231n/classifiers/softmax.py`.\n"
   ]
  },
  {
   "cell_type": "code",
   "execution_count": 46,
   "metadata": {},
   "outputs": [
    {
     "name": "stdout",
     "output_type": "stream",
     "text": [
      "X.shape  (500, 3073)\n",
      "y.shape  (500,)\n",
      "W.shape  (3073, 10)\n",
      "N=500 D=3073 C=10\n"
     ]
    },
    {
     "ename": "ValueError",
     "evalue": "operands could not be broadcast together with shapes (500,) (500,10) ",
     "output_type": "error",
     "traceback": [
      "\u001b[0;31m---------------------------------------------------------------------------\u001b[0m",
      "\u001b[0;31mValueError\u001b[0m                                Traceback (most recent call last)",
      "Cell \u001b[0;32mIn[46], line 10\u001b[0m\n\u001b[1;32m      8\u001b[0m \u001b[39m# Generate a random softmax weight matrix and use it to compute the loss.\u001b[39;00m\n\u001b[1;32m      9\u001b[0m W \u001b[39m=\u001b[39m np\u001b[39m.\u001b[39mrandom\u001b[39m.\u001b[39mrandn(\u001b[39m3073\u001b[39m, \u001b[39m10\u001b[39m) \u001b[39m*\u001b[39m \u001b[39m0.0001\u001b[39m\n\u001b[0;32m---> 10\u001b[0m loss, grad \u001b[39m=\u001b[39m softmax_loss_naive(W, X_dev, y_dev, \u001b[39m0.0\u001b[39;49m)\n\u001b[1;32m     12\u001b[0m \u001b[39m# As a rough sanity check, our loss should be something close to -log(0.1).\u001b[39;00m\n\u001b[1;32m     13\u001b[0m \u001b[39mprint\u001b[39m(\u001b[39m'\u001b[39m\u001b[39mloss: \u001b[39m\u001b[39m%f\u001b[39;00m\u001b[39m'\u001b[39m \u001b[39m%\u001b[39m loss)\n",
      "File \u001b[0;32m/mnt/d/code_uml/uml_comp5300/hw3_neural_netrworks_numpy/cs231n/classifiers/softmax.py:129\u001b[0m, in \u001b[0;36msoftmax_loss_naive\u001b[0;34m(W, X, y, reg)\u001b[0m\n\u001b[1;32m    123\u001b[0m loss = 0.0\n\u001b[1;32m    124\u001b[0m dW = np.zeros_like(W)\n\u001b[1;32m    126\u001b[0m #############################################################################\n\u001b[1;32m    127\u001b[0m # TODO: Compute the softmax loss and its gradient using no explicit loops.  #\n\u001b[1;32m    128\u001b[0m # Store the loss in loss and the gradient in dW. If you are not careful     #\n\u001b[0;32m--> 129\u001b[0m # here, it is easy to run into numeric instability. Don't forget the        #\n\u001b[1;32m    130\u001b[0m # regularization!                                                           #\n\u001b[1;32m    131\u001b[0m #############################################################################\n\u001b[1;32m    132\u001b[0m # *****START OF YOUR CODE (DO NOT DELETE/MODIFY THIS LINE)*****\n\u001b[1;32m    134\u001b[0m pass\n\u001b[1;32m    136\u001b[0m # *****END OF YOUR CODE (DO NOT DELETE/MODIFY THIS LINE)*****\n",
      "\u001b[0;31mValueError\u001b[0m: operands could not be broadcast together with shapes (500,) (500,10) "
     ]
    }
   ],
   "source": [
    "# First implement the naive softmax loss function with nested loops.\n",
    "# Open the file cs231n/classifiers/softmax.py and implement the\n",
    "# softmax_loss_naive function.\n",
    "\n",
    "from cs231n.classifiers.softmax import softmax_loss_naive\n",
    "import time\n",
    "\n",
    "# Generate a random softmax weight matrix and use it to compute the loss.\n",
    "W = np.random.randn(3073, 10) * 0.0001\n",
    "loss, grad = softmax_loss_naive(W, X_dev, y_dev, 0.0)\n",
    "\n",
    "# As a rough sanity check, our loss should be something close to -log(0.1).\n",
    "print('loss: %f' % loss)\n",
    "print('sanity check: %f' % (-np.log(0.1)))"
   ]
  },
  {
   "attachments": {},
   "cell_type": "markdown",
   "metadata": {
    "tags": [
     "pdf-inline"
    ]
   },
   "source": [
    "**Inline Question 1**\n",
    "\n",
    "Why do we expect our loss to be close to -log(0.1)? Explain briefly.**\n",
    "\n",
    "The number of target classes is 10, and with randomly initialized weights \n",
    "we would expect 10% correct predictions. Since the cross-entropy equation\n",
    "is 1.0 * ln(probability(x))  that is  ln(0.1)  which is the sanity check.\n"
   ]
  },
  {
   "cell_type": "code",
   "execution_count": 43,
   "metadata": {},
   "outputs": [
    {
     "name": "stdout",
     "output_type": "stream",
     "text": [
      "X.shape  (500, 3073)\n",
      "y.shape  (500,)\n",
      "W.shape  (3073, 10)\n",
      "N=500 D=3073 C=10\n"
     ]
    },
    {
     "ename": "ValueError",
     "evalue": "operands could not be broadcast together with shapes (500,) (500,10) ",
     "output_type": "error",
     "traceback": [
      "\u001b[0;31m---------------------------------------------------------------------------\u001b[0m",
      "\u001b[0;31mValueError\u001b[0m                                Traceback (most recent call last)",
      "Cell \u001b[0;32mIn[43], line 3\u001b[0m\n\u001b[1;32m      1\u001b[0m \u001b[39m# Complete the implementation of softmax_loss_naive and implement a (naive)\u001b[39;00m\n\u001b[1;32m      2\u001b[0m \u001b[39m# version of the gradient that uses nested loops.\u001b[39;00m\n\u001b[0;32m----> 3\u001b[0m loss, grad \u001b[39m=\u001b[39m softmax_loss_naive(W, X_dev, y_dev, \u001b[39m0.0\u001b[39;49m)\n\u001b[1;32m      5\u001b[0m \u001b[39m# Use numeric gradient checking as a debugging tool.\u001b[39;00m\n\u001b[1;32m      6\u001b[0m \u001b[39m# The numeric gradient should be close to the analytic gradient.\u001b[39;00m\n\u001b[1;32m      7\u001b[0m \u001b[39mfrom\u001b[39;00m \u001b[39mcs231n\u001b[39;00m\u001b[39m.\u001b[39;00m\u001b[39mgradient_check\u001b[39;00m \u001b[39mimport\u001b[39;00m grad_check_sparse\n",
      "File \u001b[0;32m/mnt/d/code_uml/uml_comp5300/hw3_neural_netrworks_numpy/cs231n/classifiers/softmax.py:129\u001b[0m, in \u001b[0;36msoftmax_loss_naive\u001b[0;34m(W, X, y, reg)\u001b[0m\n\u001b[1;32m    123\u001b[0m loss = 0.0\n\u001b[1;32m    124\u001b[0m dW = np.zeros_like(W)\n\u001b[1;32m    126\u001b[0m #############################################################################\n\u001b[1;32m    127\u001b[0m # TODO: Compute the softmax loss and its gradient using no explicit loops.  #\n\u001b[1;32m    128\u001b[0m # Store the loss in loss and the gradient in dW. If you are not careful     #\n\u001b[0;32m--> 129\u001b[0m # here, it is easy to run into numeric instability. Don't forget the        #\n\u001b[1;32m    130\u001b[0m # regularization!                                                           #\n\u001b[1;32m    131\u001b[0m #############################################################################\n\u001b[1;32m    132\u001b[0m # *****START OF YOUR CODE (DO NOT DELETE/MODIFY THIS LINE)*****\n\u001b[1;32m    134\u001b[0m pass\n\u001b[1;32m    136\u001b[0m # *****END OF YOUR CODE (DO NOT DELETE/MODIFY THIS LINE)*****\n",
      "\u001b[0;31mValueError\u001b[0m: operands could not be broadcast together with shapes (500,) (500,10) "
     ]
    }
   ],
   "source": [
    "# Complete the implementation of softmax_loss_naive and implement a (naive)\n",
    "# version of the gradient that uses nested loops.\n",
    "loss, grad = softmax_loss_naive(W, X_dev, y_dev, 0.0)\n",
    "\n",
    "# Use numeric gradient checking as a debugging tool.\n",
    "# The numeric gradient should be close to the analytic gradient.\n",
    "from cs231n.gradient_check import grad_check_sparse\n",
    "f = lambda w: softmax_loss_naive(w, X_dev, y_dev, 0.0)[0]\n",
    "grad_numerical = grad_check_sparse(f, W, grad, 10)\n",
    "\n",
    "# Do another gradient check with regularization\n",
    "loss, grad = softmax_loss_naive(W, X_dev, y_dev, 5e1)\n",
    "f = lambda w: softmax_loss_naive(w, X_dev, y_dev, 5e1)[0]\n",
    "grad_numerical = grad_check_sparse(f, W, grad, 10)"
   ]
  },
  {
   "cell_type": "code",
   "execution_count": 44,
   "metadata": {},
   "outputs": [
    {
     "name": "stdout",
     "output_type": "stream",
     "text": [
      "X.shape  (500, 3073)\n",
      "y.shape  (500,)\n",
      "W.shape  (3073, 10)\n",
      "N=500 D=3073 C=10\n"
     ]
    },
    {
     "ename": "ValueError",
     "evalue": "operands could not be broadcast together with shapes (500,) (500,10) ",
     "output_type": "error",
     "traceback": [
      "\u001b[0;31m---------------------------------------------------------------------------\u001b[0m",
      "\u001b[0;31mValueError\u001b[0m                                Traceback (most recent call last)",
      "Cell \u001b[0;32mIn[44], line 6\u001b[0m\n\u001b[1;32m      1\u001b[0m \u001b[39m# Now that we have a naive implementation of the softmax loss function and its gradient,\u001b[39;00m\n\u001b[1;32m      2\u001b[0m \u001b[39m# implement a vectorized version in softmax_loss_vectorized.\u001b[39;00m\n\u001b[1;32m      3\u001b[0m \u001b[39m# The two versions should compute the same results, but the vectorized version should be\u001b[39;00m\n\u001b[1;32m      4\u001b[0m \u001b[39m# much faster.\u001b[39;00m\n\u001b[1;32m      5\u001b[0m tic \u001b[39m=\u001b[39m time\u001b[39m.\u001b[39mtime()\n\u001b[0;32m----> 6\u001b[0m loss_naive, grad_naive \u001b[39m=\u001b[39m softmax_loss_naive(W, X_dev, y_dev, \u001b[39m0.000005\u001b[39;49m)\n\u001b[1;32m      7\u001b[0m toc \u001b[39m=\u001b[39m time\u001b[39m.\u001b[39mtime()\n\u001b[1;32m      8\u001b[0m \u001b[39mprint\u001b[39m(\u001b[39m'\u001b[39m\u001b[39mnaive loss: \u001b[39m\u001b[39m%e\u001b[39;00m\u001b[39m computed in \u001b[39m\u001b[39m%f\u001b[39;00m\u001b[39ms\u001b[39m\u001b[39m'\u001b[39m \u001b[39m%\u001b[39m (loss_naive, toc \u001b[39m-\u001b[39m tic))\n",
      "File \u001b[0;32m/mnt/d/code_uml/uml_comp5300/hw3_neural_netrworks_numpy/cs231n/classifiers/softmax.py:129\u001b[0m, in \u001b[0;36msoftmax_loss_naive\u001b[0;34m(W, X, y, reg)\u001b[0m\n\u001b[1;32m    123\u001b[0m loss = 0.0\n\u001b[1;32m    124\u001b[0m dW = np.zeros_like(W)\n\u001b[1;32m    126\u001b[0m #############################################################################\n\u001b[1;32m    127\u001b[0m # TODO: Compute the softmax loss and its gradient using no explicit loops.  #\n\u001b[1;32m    128\u001b[0m # Store the loss in loss and the gradient in dW. If you are not careful     #\n\u001b[0;32m--> 129\u001b[0m # here, it is easy to run into numeric instability. Don't forget the        #\n\u001b[1;32m    130\u001b[0m # regularization!                                                           #\n\u001b[1;32m    131\u001b[0m #############################################################################\n\u001b[1;32m    132\u001b[0m # *****START OF YOUR CODE (DO NOT DELETE/MODIFY THIS LINE)*****\n\u001b[1;32m    134\u001b[0m pass\n\u001b[1;32m    136\u001b[0m # *****END OF YOUR CODE (DO NOT DELETE/MODIFY THIS LINE)*****\n",
      "\u001b[0;31mValueError\u001b[0m: operands could not be broadcast together with shapes (500,) (500,10) "
     ]
    }
   ],
   "source": [
    "# Now that we have a naive implementation of the softmax loss function and its gradient,\n",
    "# implement a vectorized version in softmax_loss_vectorized.\n",
    "# The two versions should compute the same results, but the vectorized version should be\n",
    "# much faster.\n",
    "tic = time.time()\n",
    "loss_naive, grad_naive = softmax_loss_naive(W, X_dev, y_dev, 0.000005)\n",
    "toc = time.time()\n",
    "print('naive loss: %e computed in %fs' % (loss_naive, toc - tic))\n",
    "\n",
    "from cs231n.classifiers.softmax import softmax_loss_vectorized\n",
    "tic = time.time()\n",
    "loss_vectorized, grad_vectorized = softmax_loss_vectorized(W, X_dev, y_dev, 0.000005)\n",
    "toc = time.time()\n",
    "print('vectorized loss: %e computed in %fs' % (loss_vectorized, toc - tic))\n",
    "\n",
    "# We use the Frobenius norm to compare the two versions\n",
    "# of the gradient.\n",
    "grad_difference = np.linalg.norm(grad_naive - grad_vectorized, ord='fro')\n",
    "print('Loss difference: %f' % np.abs(loss_naive - loss_vectorized))\n",
    "print('Gradient difference: %f' % grad_difference)"
   ]
  },
  {
   "cell_type": "code",
   "execution_count": null,
   "metadata": {
    "id": "tuning",
    "tags": [
     "code"
    ]
   },
   "outputs": [],
   "source": [
    "# Use the validation set to tune hyperparameters (regularization strength and\n",
    "# learning rate). You should experiment with different ranges for the learning\n",
    "# rates and regularization strengths; if you are careful you should be able to\n",
    "# get a classification accuracy of over 0.35 on the validation set.\n",
    "\n",
    "from cs231n.classifiers import Softmax\n",
    "results = {}\n",
    "best_val = -1\n",
    "best_softmax = None\n",
    "\n",
    "################################################################################\n",
    "# TODO:                                                                        #\n",
    "# Use the validation set to set the learning rate and regularization strength. #\n",
    "# This should be identical to the validation that you did for the SVM; save    #\n",
    "# the best trained softmax classifer in best_softmax.                          #\n",
    "################################################################################\n",
    "\n",
    "# Provided as a reference. You may or may not want to change these hyperparameters\n",
    "learning_rates = [1e-7, 5e-7]\n",
    "regularization_strengths = [2.5e4, 5e4]\n",
    "\n",
    "# *****START OF YOUR CODE (DO NOT DELETE/MODIFY THIS LINE)*****\n",
    "\n",
    "pass\n",
    "\n",
    "# *****END OF YOUR CODE (DO NOT DELETE/MODIFY THIS LINE)*****\n",
    "    \n",
    "# Print out results.\n",
    "for lr, reg in sorted(results):\n",
    "    train_accuracy, val_accuracy = results[(lr, reg)]\n",
    "    print('lr %e reg %e train accuracy: %f val accuracy: %f' % (\n",
    "                lr, reg, train_accuracy, val_accuracy))\n",
    "    \n",
    "print('best validation accuracy achieved during cross-validation: %f' % best_val)"
   ]
  },
  {
   "cell_type": "code",
   "execution_count": null,
   "metadata": {
    "id": "test"
   },
   "outputs": [],
   "source": [
    "# evaluate on test set\n",
    "# Evaluate the best softmax on test set\n",
    "y_test_pred = best_softmax.predict(X_test)\n",
    "test_accuracy = np.mean(y_test == y_test_pred)\n",
    "print('softmax on raw pixels final test set accuracy: %f' % (test_accuracy, ))"
   ]
  },
  {
   "cell_type": "code",
   "execution_count": null,
   "metadata": {},
   "outputs": [],
   "source": [
    "# Visualize the learned weights for each class\n",
    "w = best_softmax.W[:-1,:] # strip out the bias\n",
    "w = w.reshape(32, 32, 3, 10)\n",
    "\n",
    "w_min, w_max = np.min(w), np.max(w)\n",
    "\n",
    "classes = ['plane', 'car', 'bird', 'cat', 'deer', 'dog', 'frog', 'horse', 'ship', 'truck']\n",
    "for i in range(10):\n",
    "    plt.subplot(2, 5, i + 1)\n",
    "    \n",
    "    # Rescale the weights to be between 0 and 255\n",
    "    wimg = 255.0 * (w[:, :, :, i].squeeze() - w_min) / (w_max - w_min)\n",
    "    plt.imshow(wimg.astype('uint8'))\n",
    "    plt.axis('off')\n",
    "    plt.title(classes[i])"
   ]
  },
  {
   "cell_type": "code",
   "execution_count": null,
   "metadata": {},
   "outputs": [],
   "source": []
  }
 ],
 "metadata": {
  "kernelspec": {
   "display_name": "pytorch_d_1_13_1_cuda_11_7",
   "language": "python",
   "name": "python3"
  },
  "language_info": {
   "codemirror_mode": {
    "name": "ipython",
    "version": 3
   },
   "file_extension": ".py",
   "mimetype": "text/x-python",
   "name": "python",
   "nbconvert_exporter": "python",
   "pygments_lexer": "ipython3",
   "version": "3.9.15"
  },
  "vscode": {
   "interpreter": {
    "hash": "3698088e0fe12f3b73d81797d5a70dc219201e963736636c9b1efdb0bb50c42c"
   }
  }
 },
 "nbformat": 4,
 "nbformat_minor": 4
}
