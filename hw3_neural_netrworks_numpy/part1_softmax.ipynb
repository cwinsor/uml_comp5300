{
 "cells": [
  {
   "cell_type": "markdown",
   "metadata": {},
   "source": [
    "## Homework 2. Part 1. Softmax classifier (logistic regression) from scratch.\n",
    "\n",
    "### Set COLAB to True if you work in COLAB, else, set it to False"
   ]
  },
  {
   "cell_type": "code",
   "execution_count": 1,
   "metadata": {},
   "outputs": [],
   "source": [
    "# YOUR CODE HERE\n",
    "COLAB = False"
   ]
  },
  {
   "cell_type": "code",
   "execution_count": 2,
   "metadata": {},
   "outputs": [
    {
     "name": "stdout",
     "output_type": "stream",
     "text": [
      "/mnt/d/code_uml/uml_comp5300/hw3_neural_netrworks_numpy/cs231n/datasets\n",
      "--2023-02-13 21:32:21--  http://www.cs.toronto.edu/~kriz/cifar-10-python.tar.gz\n",
      "Resolving www.cs.toronto.edu (www.cs.toronto.edu)... 128.100.3.30\n",
      "Connecting to www.cs.toronto.edu (www.cs.toronto.edu)|128.100.3.30|:80... connected.\n",
      "HTTP request sent, awaiting response... 200 OK\n",
      "Length: 170498071 (163M) [application/x-gzip]\n",
      "Saving to: ‘cifar-10-python.tar.gz’\n",
      "\n",
      "cifar-10-python.tar 100%[===================>] 162.60M  36.7MB/s    in 4.7s    \n",
      "\n",
      "2023-02-13 21:32:26 (34.5 MB/s) - ‘cifar-10-python.tar.gz’ saved [170498071/170498071]\n",
      "\n",
      "cifar-10-batches-py/\n",
      "cifar-10-batches-py/data_batch_4\n",
      "cifar-10-batches-py/readme.html\n",
      "cifar-10-batches-py/test_batch\n",
      "cifar-10-batches-py/data_batch_3\n",
      "cifar-10-batches-py/batches.meta\n",
      "cifar-10-batches-py/data_batch_2\n",
      "cifar-10-batches-py/data_batch_5\n",
      "cifar-10-batches-py/data_batch_1\n",
      "/mnt/d/code_uml/uml_comp5300/hw3_neural_netrworks_numpy\n"
     ]
    }
   ],
   "source": [
    "if COLAB:\n",
    "    # This mounts your Google Drive to the Colab VM.\n",
    "    from google.colab import drive\n",
    "    drive.mount('/content/drive', force_remount=True)\n",
    "\n",
    "    # Enter the foldername in your Drive where you have saved the unzipped\n",
    "    # assignment folder, e.g. 'cs231n/assignments/assignment1/'\n",
    "    FOLDERNAME = None\n",
    "    assert FOLDERNAME is not None, \"[!] Enter the foldername.\"\n",
    "\n",
    "    # Now that we've mounted your Drive, this ensures that\n",
    "    # the Python interpreter of the Colab VM can load\n",
    "    # python files from within it.\n",
    "    import sys\n",
    "    sys.path.append('/content/drive/My Drive/{}'.format(FOLDERNAME))\n",
    "\n",
    "    # This downloads the CIFAR-10 dataset to your Drive\n",
    "    # if it doesn't already exist.\n",
    "    %cd drive/My\\ Drive/$FOLDERNAME/cs231n/datasets/\n",
    "    !bash get_datasets.sh\n",
    "    %cd /content/drive/My\\ Drive/$FOLDERNAME\n",
    "else:\n",
    "    %cd cs231n/datasets/\n",
    "    !bash get_datasets.sh\n",
    "    %cd ../.."
   ]
  },
  {
   "cell_type": "markdown",
   "metadata": {
    "tags": [
     "pdf-title"
    ]
   },
   "source": [
    "# Softmax exercise\n",
    "\n",
    "*Complete and hand in this completed worksheet (including its outputs and any supporting code outside of the worksheet) with your assignment submission. For more details see the [assignments page](http://vision.stanford.edu/teaching/cs231n/assignments.html) on the course website.*\n",
    "\n",
    "In this exercise you will:\n",
    "\n",
    "- implement a fully-vectorized **loss function** for the Softmax classifier\n",
    "- implement the fully-vectorized expression for its **analytic gradient**\n",
    "- **check your implementation** with numerical gradient\n",
    "- use a validation set to **tune the learning rate and regularization** strength\n",
    "- **optimize** the loss function with **SGD**\n",
    "- **visualize** the final learned weights\n",
    "\n",
    "Credit: Stanford cs231n\n"
   ]
  },
  {
   "cell_type": "code",
   "execution_count": 6,
   "metadata": {
    "tags": [
     "pdf-ignore"
    ]
   },
   "outputs": [],
   "source": [
    "import random\n",
    "import numpy as np\n",
    "from cs231n.data_utils import load_CIFAR10\n",
    "import matplotlib.pyplot as plt\n",
    "\n",
    "%matplotlib inline\n",
    "plt.rcParams['figure.figsize'] = (10.0, 8.0) # set default size of plots\n",
    "plt.rcParams['image.interpolation'] = 'nearest'\n",
    "plt.rcParams['image.cmap'] = 'gray'\n",
    "\n",
    "# for auto-reloading extenrnal modules\n",
    "# see http://stackoverflow.com/questions/1907993/autoreload-of-modules-in-ipython\n",
    "%load_ext autoreload\n",
    "%autoreload 2"
   ]
  },
  {
   "cell_type": "code",
   "execution_count": 38,
   "metadata": {
    "tags": [
     "pdf-ignore"
    ]
   },
   "outputs": [
    {
     "name": "stdout",
     "output_type": "stream",
     "text": [
      "Train data shape:  (49000, 3073)\n",
      "Train labels shape:  (49000,)\n",
      "Validation data shape:  (1000, 3073)\n",
      "Validation labels shape:  (1000,)\n",
      "Test data shape:  (1000, 3073)\n",
      "Test labels shape:  (1000,)\n",
      "dev data shape:  (500, 3073)\n",
      "dev labels shape:  (500,)\n"
     ]
    }
   ],
   "source": [
    "def get_CIFAR10_data(num_training=49000, num_validation=1000, num_test=1000, num_dev=500):\n",
    "    \"\"\"\n",
    "    Load the CIFAR-10 dataset from disk and perform preprocessing to prepare\n",
    "    it for the linear classifier. These are the same steps as we used for the\n",
    "    SVM, but condensed to a single function.  \n",
    "    \"\"\"\n",
    "    # Load the raw CIFAR-10 data\n",
    "    cifar10_dir = 'cs231n/datasets/cifar-10-batches-py'\n",
    "    \n",
    "    # Cleaning up variables to prevent loading data multiple times (which may cause memory issue)\n",
    "    try:\n",
    "       del X_train, y_train\n",
    "       del X_test, y_test\n",
    "       print('Clear previously loaded data.')\n",
    "    except:\n",
    "       pass\n",
    "\n",
    "    X_train, y_train, X_test, y_test = load_CIFAR10(cifar10_dir)\n",
    "    \n",
    "    # subsample the data\n",
    "    mask = list(range(num_training, num_training + num_validation))\n",
    "    X_val = X_train[mask]\n",
    "    y_val = y_train[mask]\n",
    "    mask = list(range(num_training))\n",
    "    X_train = X_train[mask]\n",
    "    y_train = y_train[mask]\n",
    "    mask = list(range(num_test))\n",
    "    X_test = X_test[mask]\n",
    "    y_test = y_test[mask]\n",
    "    mask = np.random.choice(num_training, num_dev, replace=False)\n",
    "    X_dev = X_train[mask]\n",
    "    y_dev = y_train[mask]\n",
    "    \n",
    "    # Preprocessing: reshape the image data into rows\n",
    "    X_train = np.reshape(X_train, (X_train.shape[0], -1))\n",
    "    X_val = np.reshape(X_val, (X_val.shape[0], -1))\n",
    "    X_test = np.reshape(X_test, (X_test.shape[0], -1))\n",
    "    X_dev = np.reshape(X_dev, (X_dev.shape[0], -1))\n",
    "    \n",
    "    # Normalize the data: subtract the mean image\n",
    "    mean_image = np.mean(X_train, axis = 0)\n",
    "    X_train -= mean_image\n",
    "    X_val -= mean_image\n",
    "    X_test -= mean_image\n",
    "    X_dev -= mean_image\n",
    "    \n",
    "    # add bias dimension and transform into columns\n",
    "    X_train = np.hstack([X_train, np.ones((X_train.shape[0], 1))])\n",
    "    X_val = np.hstack([X_val, np.ones((X_val.shape[0], 1))])\n",
    "    X_test = np.hstack([X_test, np.ones((X_test.shape[0], 1))])\n",
    "    X_dev = np.hstack([X_dev, np.ones((X_dev.shape[0], 1))])\n",
    "    \n",
    "    return X_train, y_train, X_val, y_val, X_test, y_test, X_dev, y_dev\n",
    "\n",
    "\n",
    "# Invoke the above function to get our data.\n",
    "X_train, y_train, X_val, y_val, X_test, y_test, X_dev, y_dev = get_CIFAR10_data()\n",
    "print('Train data shape: ', X_train.shape)\n",
    "print('Train labels shape: ', y_train.shape)\n",
    "print('Validation data shape: ', X_val.shape)\n",
    "print('Validation labels shape: ', y_val.shape)\n",
    "print('Test data shape: ', X_test.shape)\n",
    "print('Test labels shape: ', y_test.shape)\n",
    "print('dev data shape: ', X_dev.shape)\n",
    "print('dev labels shape: ', y_dev.shape)"
   ]
  },
  {
   "cell_type": "markdown",
   "metadata": {},
   "source": [
    "## Softmax Classifier\n",
    "\n",
    "Your code for this section will all be written inside `cs231n/classifiers/softmax.py`.\n"
   ]
  },
  {
   "cell_type": "code",
   "execution_count": 40,
   "metadata": {},
   "outputs": [
    {
     "name": "stdout",
     "output_type": "stream",
     "text": [
      "X.shape  (500, 3073)\n",
      "y.shape  (500,)\n",
      "W.shape  (3073, 10)\n",
      "N=500 D=3073 C=10\n",
      "[-2.59048155 -1.98544545 -2.5204165  -2.42614341 -1.59453882 -2.54427457\n",
      " -2.8896767  -2.66355488 -2.15538305 -2.40606405 -2.3508322  -2.00290824\n",
      " -2.70259105 -2.14332576 -2.21470994 -2.90622861 -2.39820727 -1.9686278\n",
      " -2.34010615 -1.98112148 -1.99497753 -2.41183511 -1.96291626 -2.68524032\n",
      " -1.95042312 -2.57922454 -2.14063762 -2.73293165 -2.03698533 -2.49297233\n",
      " -2.25179164 -2.22036326 -2.28021971 -2.00387416 -1.76279613 -2.82098973\n",
      " -2.45384078 -2.50578242 -2.38145856 -2.29401799 -2.03937729 -1.90734745\n",
      " -2.12753747 -2.94594555 -2.64622791 -1.86814052 -2.27380283 -1.63768119\n",
      " -2.57350415 -2.10264071 -2.54135205 -2.59628713 -2.16185587 -1.70376263\n",
      " -2.25205787 -2.27236385 -2.39277288 -2.41454811 -2.16504677 -2.29122848\n",
      " -2.83810864 -2.17426888 -2.43618789 -2.08663991 -2.56979008 -2.31122645\n",
      " -2.32401436 -2.10801314 -2.40427111 -2.43088107 -2.17188361 -2.64703839\n",
      " -2.49715253 -1.97723437 -2.38722909 -2.63183769 -2.54459584 -2.30450858\n",
      " -2.23837241 -2.30628111 -1.97775813 -2.14100238 -1.65185337 -2.35731234\n",
      " -2.59475284 -2.29733736 -2.49831098 -2.11163539 -2.85795199 -1.62655573\n",
      " -2.50226552 -2.00219209 -2.27595138 -2.27698981 -2.49168833 -2.27204161\n",
      " -2.34478168 -2.31802606 -2.49434215 -1.87720594 -2.11993762 -1.96073954\n",
      " -2.42398088 -2.31743887 -1.77771413 -2.36137647 -1.95471835 -2.47212107\n",
      " -2.39000864 -2.81097874 -2.14028292 -1.90856386 -2.51356345 -1.80924996\n",
      " -2.28062519 -2.31639901 -2.68334235 -1.95071959 -2.7349052  -2.13064195\n",
      " -2.51864529 -2.54474678 -3.08831631 -2.63543985 -2.95976857 -2.11938159\n",
      " -2.5287363  -2.73483344 -3.13503596 -2.08997148 -2.52228959 -1.91412597\n",
      " -2.49534452 -2.59857155 -2.68809095 -2.46154515 -2.58589053 -2.47685407\n",
      " -1.83637047 -2.39005621 -2.61843777 -2.07343441 -2.11662424 -1.8227451\n",
      " -2.67986582 -2.26776788 -2.3899309  -2.70435873 -2.57804179 -1.82489775\n",
      " -2.17655154 -2.66859067 -2.23919796 -2.22661555 -2.06020036 -2.10953855\n",
      " -2.28650329 -2.69324281 -2.99630164 -2.56103845 -2.31416055 -2.14017867\n",
      " -2.44133322 -2.7766362  -2.21310217 -2.82631218 -2.50206649 -2.70238561\n",
      " -1.99678248 -2.91340092 -2.47607799 -2.22986567 -2.29556341 -2.38023803\n",
      " -2.75139562 -2.0323254  -2.6584861  -2.26656112 -2.64777435 -2.08604485\n",
      " -2.38680362 -2.43229169 -2.44446668 -2.69079939 -1.86004506 -2.64741758\n",
      " -2.52702348 -2.00167097 -2.30551493 -2.33019792 -2.45379573 -1.88319976\n",
      " -1.65378846 -2.19894083 -2.31313018 -1.55296775 -1.74807527 -2.53707548\n",
      " -2.5533539  -2.7874634  -2.40493068 -2.51003018 -2.58032146 -2.72845478\n",
      " -2.3987131  -2.12963511 -2.36666952 -1.93815854 -3.21257559 -2.25771616\n",
      " -1.77103985 -2.40630926 -2.43562873 -1.57458373 -2.26839008 -2.63637338\n",
      " -1.78852386 -2.24649198 -2.34694738 -1.67629985 -2.73808478 -2.19493597\n",
      " -2.14201894 -2.33066766 -1.69897428 -2.49743722 -1.93661122 -2.38632531\n",
      " -2.10282397 -2.15809891 -2.49799746 -2.21684368 -1.79276087 -2.58460993\n",
      " -1.91941604 -3.06381377 -2.10804495 -2.06569052 -2.2514368  -2.26637293\n",
      " -2.22488107 -1.98979951 -2.34244405 -2.33300417 -2.37128628 -2.39594431\n",
      " -2.38599272 -2.22034264 -2.60614953 -2.07640305 -2.22385333 -3.02524355\n",
      " -1.84885587 -1.97479532 -2.15268891 -2.52572294 -2.51583407 -2.25093842\n",
      " -2.36312737 -2.46423653 -2.60572426 -1.99130181 -2.27894068 -2.60760857\n",
      " -2.3849238  -2.61811971 -2.54056563 -2.18374745 -2.65336819 -1.99889681\n",
      " -2.30688988 -2.22873322 -2.26525495 -2.21581684 -2.56819923 -2.23841155\n",
      " -2.09536011 -3.43045473 -2.85234116 -2.46472828 -2.32852926 -2.26589736\n",
      " -2.27881586 -2.30011905 -2.19714116 -2.12208567 -2.45681515 -1.60821161\n",
      " -1.94650174 -2.86265505 -1.76094632 -2.19492213 -2.18362166 -2.44001639\n",
      " -2.52765107 -2.5352719  -2.70428569 -2.32722843 -2.64069832 -3.37420488\n",
      " -2.52157982 -2.39577111 -2.73311027 -2.49306645 -2.22140733 -2.08216937\n",
      " -3.26008621 -1.88426652 -2.09362687 -2.93135369 -2.88856719 -2.75426772\n",
      " -1.95711196 -2.56860927 -2.73655979 -2.7289166  -2.63714154 -2.69168101\n",
      " -2.5702225  -2.22785123 -2.1834383  -2.21274992 -1.88202525 -2.35889234\n",
      " -2.70122817 -2.43391285 -2.31845765 -2.36906604 -2.46140663 -2.64112067\n",
      " -2.18861222 -2.63541453 -1.77785051 -2.38878242 -2.70165978 -2.04079607\n",
      " -2.55370696 -2.89620302 -2.46430111 -2.51652685 -2.59207217 -1.98189517\n",
      " -2.66735787 -1.96500128 -2.43145894 -2.85847176 -2.34991679 -1.82149993\n",
      " -2.43326868 -2.1145372  -2.82420309 -1.6935298  -2.67477709 -2.73125346\n",
      " -1.93068909 -2.10068248 -2.03345543 -2.45334506 -2.58043359 -1.95033277\n",
      " -2.21766141 -2.72137147 -2.18888349 -2.71063469 -2.47821135 -2.40947452\n",
      " -2.98094548 -1.91196494 -2.2886611  -2.46706478 -2.77650647 -1.93520335\n",
      " -1.58168113 -2.31949006 -1.87788748 -2.26883492 -1.88125363 -2.19671924\n",
      " -2.76924249 -2.16123226 -2.04406806 -2.79167654 -2.10431512 -2.78955313\n",
      " -2.15236555 -2.56246829 -2.3137387  -2.14514134 -3.00193582 -1.95993179\n",
      " -2.17066296 -2.47990037 -2.07246999 -2.23358756 -2.1146511  -2.34162301\n",
      " -2.19922451 -2.43667036 -2.13880822 -2.48608415 -2.79501463 -1.8241204\n",
      " -2.18134899 -2.0744117  -2.25942649 -2.60498388 -2.95446355 -2.98689596\n",
      " -1.89283928 -2.37571422 -2.74289385 -2.64897441 -1.94149892 -2.02703012\n",
      " -2.06251164 -2.08326448 -2.78956302 -2.27596464 -2.65167664 -1.77987345\n",
      " -3.03109666 -3.15515296 -2.19726258 -2.70071653 -2.48241513 -2.38985269\n",
      " -2.09716554 -2.41387124 -2.14226918 -2.80946128 -2.49495397 -1.93638198\n",
      " -2.35953119 -2.8419438  -1.89622766 -2.43582788 -2.59394418 -2.05758784\n",
      " -2.47609227 -2.3370121  -2.53640179 -2.55389383 -1.98514825 -1.90417286\n",
      " -2.44258585 -1.97568526 -3.16516176 -2.26888272 -2.42429566 -2.90717973\n",
      " -1.97491711 -3.06256757 -2.5351728  -2.58905174 -2.07291164 -2.61242589\n",
      " -1.63861991 -2.29578889 -2.20884025 -1.69665478 -2.41606514 -2.38068388\n",
      " -2.54990786 -2.5066017  -2.16169581 -2.06277771 -2.46306597 -2.25266002\n",
      " -2.69142339 -2.10512647 -2.22500638 -2.79254276 -2.15812529 -2.28289299\n",
      " -2.21060625 -2.82298554 -2.35570263 -2.54284498 -2.40718571 -2.43636626\n",
      " -2.12362065 -1.883471   -2.43385305 -2.44494503 -2.04939412 -2.24070204\n",
      " -2.44066914 -2.11736026 -2.7608245  -2.27470182 -2.31928774 -2.18834772\n",
      " -2.56327467 -1.46720967 -2.20625521 -2.78482822 -2.37151744 -1.83682183\n",
      " -2.75107407 -2.40601845]\n",
      "loss: -2.344151\n",
      "sanity check: 2.302585\n"
     ]
    }
   ],
   "source": [
    "# First implement the naive softmax loss function with nested loops.\n",
    "# Open the file cs231n/classifiers/softmax.py and implement the\n",
    "# softmax_loss_naive function.\n",
    "\n",
    "from cs231n.classifiers.softmax import softmax_loss_naive\n",
    "import time\n",
    "\n",
    "# Generate a random softmax weight matrix and use it to compute the loss.\n",
    "W = np.random.randn(3073, 10) * 0.0001\n",
    "loss, grad = softmax_loss_naive(W, X_dev, y_dev, 0.0)\n",
    "\n",
    "# As a rough sanity check, our loss should be something close to -log(0.1).\n",
    "print('loss: %f' % loss)\n",
    "print('sanity check: %f' % (-np.log(0.1)))"
   ]
  },
  {
   "attachments": {},
   "cell_type": "markdown",
   "metadata": {
    "tags": [
     "pdf-inline"
    ]
   },
   "source": [
    "**Inline Question 1**\n",
    "\n",
    "Why do we expect our loss to be close to -log(0.1)? Explain briefly.**\n",
    "\n",
    "The number of target classes is 10, and with randomly initialized weights \n",
    "we would expect 10% correct predictions. Since the cross-entropy equation\n",
    "is 1.0 * ln(probability(x))  that is  ln(0.1)  which is the sanity check.\n"
   ]
  },
  {
   "cell_type": "code",
   "execution_count": null,
   "metadata": {},
   "outputs": [],
   "source": [
    "# Complete the implementation of softmax_loss_naive and implement a (naive)\n",
    "# version of the gradient that uses nested loops.\n",
    "loss, grad = softmax_loss_naive(W, X_dev, y_dev, 0.0)\n",
    "\n",
    "# Use numeric gradient checking as a debugging tool.\n",
    "# The numeric gradient should be close to the analytic gradient.\n",
    "from cs231n.gradient_check import grad_check_sparse\n",
    "f = lambda w: softmax_loss_naive(w, X_dev, y_dev, 0.0)[0]\n",
    "grad_numerical = grad_check_sparse(f, W, grad, 10)\n",
    "\n",
    "# Do another gradient check with regularization\n",
    "loss, grad = softmax_loss_naive(W, X_dev, y_dev, 5e1)\n",
    "f = lambda w: softmax_loss_naive(w, X_dev, y_dev, 5e1)[0]\n",
    "grad_numerical = grad_check_sparse(f, W, grad, 10)"
   ]
  },
  {
   "cell_type": "code",
   "execution_count": null,
   "metadata": {},
   "outputs": [],
   "source": [
    "# Now that we have a naive implementation of the softmax loss function and its gradient,\n",
    "# implement a vectorized version in softmax_loss_vectorized.\n",
    "# The two versions should compute the same results, but the vectorized version should be\n",
    "# much faster.\n",
    "tic = time.time()\n",
    "loss_naive, grad_naive = softmax_loss_naive(W, X_dev, y_dev, 0.000005)\n",
    "toc = time.time()\n",
    "print('naive loss: %e computed in %fs' % (loss_naive, toc - tic))\n",
    "\n",
    "from cs231n.classifiers.softmax import softmax_loss_vectorized\n",
    "tic = time.time()\n",
    "loss_vectorized, grad_vectorized = softmax_loss_vectorized(W, X_dev, y_dev, 0.000005)\n",
    "toc = time.time()\n",
    "print('vectorized loss: %e computed in %fs' % (loss_vectorized, toc - tic))\n",
    "\n",
    "# We use the Frobenius norm to compare the two versions\n",
    "# of the gradient.\n",
    "grad_difference = np.linalg.norm(grad_naive - grad_vectorized, ord='fro')\n",
    "print('Loss difference: %f' % np.abs(loss_naive - loss_vectorized))\n",
    "print('Gradient difference: %f' % grad_difference)"
   ]
  },
  {
   "cell_type": "code",
   "execution_count": null,
   "metadata": {
    "id": "tuning",
    "tags": [
     "code"
    ]
   },
   "outputs": [],
   "source": [
    "# Use the validation set to tune hyperparameters (regularization strength and\n",
    "# learning rate). You should experiment with different ranges for the learning\n",
    "# rates and regularization strengths; if you are careful you should be able to\n",
    "# get a classification accuracy of over 0.35 on the validation set.\n",
    "\n",
    "from cs231n.classifiers import Softmax\n",
    "results = {}\n",
    "best_val = -1\n",
    "best_softmax = None\n",
    "\n",
    "################################################################################\n",
    "# TODO:                                                                        #\n",
    "# Use the validation set to set the learning rate and regularization strength. #\n",
    "# This should be identical to the validation that you did for the SVM; save    #\n",
    "# the best trained softmax classifer in best_softmax.                          #\n",
    "################################################################################\n",
    "\n",
    "# Provided as a reference. You may or may not want to change these hyperparameters\n",
    "learning_rates = [1e-7, 5e-7]\n",
    "regularization_strengths = [2.5e4, 5e4]\n",
    "\n",
    "# *****START OF YOUR CODE (DO NOT DELETE/MODIFY THIS LINE)*****\n",
    "\n",
    "pass\n",
    "\n",
    "# *****END OF YOUR CODE (DO NOT DELETE/MODIFY THIS LINE)*****\n",
    "    \n",
    "# Print out results.\n",
    "for lr, reg in sorted(results):\n",
    "    train_accuracy, val_accuracy = results[(lr, reg)]\n",
    "    print('lr %e reg %e train accuracy: %f val accuracy: %f' % (\n",
    "                lr, reg, train_accuracy, val_accuracy))\n",
    "    \n",
    "print('best validation accuracy achieved during cross-validation: %f' % best_val)"
   ]
  },
  {
   "cell_type": "code",
   "execution_count": null,
   "metadata": {
    "id": "test"
   },
   "outputs": [],
   "source": [
    "# evaluate on test set\n",
    "# Evaluate the best softmax on test set\n",
    "y_test_pred = best_softmax.predict(X_test)\n",
    "test_accuracy = np.mean(y_test == y_test_pred)\n",
    "print('softmax on raw pixels final test set accuracy: %f' % (test_accuracy, ))"
   ]
  },
  {
   "cell_type": "code",
   "execution_count": null,
   "metadata": {},
   "outputs": [],
   "source": [
    "# Visualize the learned weights for each class\n",
    "w = best_softmax.W[:-1,:] # strip out the bias\n",
    "w = w.reshape(32, 32, 3, 10)\n",
    "\n",
    "w_min, w_max = np.min(w), np.max(w)\n",
    "\n",
    "classes = ['plane', 'car', 'bird', 'cat', 'deer', 'dog', 'frog', 'horse', 'ship', 'truck']\n",
    "for i in range(10):\n",
    "    plt.subplot(2, 5, i + 1)\n",
    "    \n",
    "    # Rescale the weights to be between 0 and 255\n",
    "    wimg = 255.0 * (w[:, :, :, i].squeeze() - w_min) / (w_max - w_min)\n",
    "    plt.imshow(wimg.astype('uint8'))\n",
    "    plt.axis('off')\n",
    "    plt.title(classes[i])"
   ]
  },
  {
   "cell_type": "code",
   "execution_count": null,
   "metadata": {},
   "outputs": [],
   "source": []
  }
 ],
 "metadata": {
  "kernelspec": {
   "display_name": "pytorch_d_1_13_1_cuda_11_7",
   "language": "python",
   "name": "python3"
  },
  "language_info": {
   "codemirror_mode": {
    "name": "ipython",
    "version": 3
   },
   "file_extension": ".py",
   "mimetype": "text/x-python",
   "name": "python",
   "nbconvert_exporter": "python",
   "pygments_lexer": "ipython3",
   "version": "3.9.15"
  },
  "vscode": {
   "interpreter": {
    "hash": "3698088e0fe12f3b73d81797d5a70dc219201e963736636c9b1efdb0bb50c42c"
   }
  }
 },
 "nbformat": 4,
 "nbformat_minor": 4
}
