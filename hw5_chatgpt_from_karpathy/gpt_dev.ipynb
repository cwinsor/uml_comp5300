{
 "cells": [
  {
   "cell_type": "code",
   "execution_count": 1,
   "metadata": {},
   "outputs": [],
   "source": [
    "# Reference https://www.youtube.com/watch?v=kCc8FmEb1nY\n",
    "# !wget https://raw.githubusercontent.com/karpathy/char-rnn/master/data/tinyshakespeare/input.txt"
   ]
  },
  {
   "cell_type": "code",
   "execution_count": 31,
   "metadata": {},
   "outputs": [],
   "source": [
    "# hyperparameters\n",
    "batch_size = 32\n",
    "block_size = 8\n",
    "max_iters = 3000\n",
    "eval_interval = 300\n",
    "learning_rate = 1e-2\n",
    "device = 'cuda' if torch.cuda.is_available() else 'cpu'\n",
    "assert device=='cuda', \"error - this script requires GPU\"\n",
    "eval_iters=00"
   ]
  },
  {
   "cell_type": "code",
   "execution_count": 2,
   "metadata": {},
   "outputs": [],
   "source": [
    "# read data\n",
    "with open('input.txt', 'r', encoding='utf-8') as f:\n",
    "    text = f.read()"
   ]
  },
  {
   "cell_type": "code",
   "execution_count": 3,
   "metadata": {},
   "outputs": [
    {
     "name": "stdout",
     "output_type": "stream",
     "text": [
      "length of dataset in characters:  1115394\n"
     ]
    }
   ],
   "source": [
    "print(\"length of dataset in characters: \", len(text))"
   ]
  },
  {
   "cell_type": "code",
   "execution_count": 4,
   "metadata": {},
   "outputs": [
    {
     "name": "stdout",
     "output_type": "stream",
     "text": [
      "First Citizen:\n",
      "Before we proceed any further, hear\n"
     ]
    }
   ],
   "source": [
    "print(text[:50])"
   ]
  },
  {
   "cell_type": "code",
   "execution_count": 5,
   "metadata": {},
   "outputs": [
    {
     "name": "stdout",
     "output_type": "stream",
     "text": [
      "\n",
      " !$&',-.3:;?ABCDEFGHIJKLMNOPQRSTUVWXYZabcdefghijklmnopqrstuvwxyz\n",
      "65\n"
     ]
    }
   ],
   "source": [
    "# unique characters\n",
    "chars = sorted(list(set(text)))\n",
    "vocab_size = len(chars)\n",
    "print(''.join(chars))\n",
    "print(vocab_size)"
   ]
  },
  {
   "cell_type": "code",
   "execution_count": 6,
   "metadata": {},
   "outputs": [
    {
     "name": "stdout",
     "output_type": "stream",
     "text": [
      "[46, 47, 1, 58, 46, 43, 56, 43]\n",
      "hi there\n"
     ]
    }
   ],
   "source": [
    "stoi = { ch:i for i,ch in enumerate(chars) }\n",
    "itos = { i:ch for i,ch in enumerate(chars) }\n",
    "encode = lambda s: [stoi[c] for c in s]  # encoder string to integers\n",
    "decode = lambda l: ''.join([itos[i] for i in l])  # decoder integers to string\n",
    "\n",
    "print(encode(\"hi there\"))\n",
    "print(decode(encode(\"hi there\")))"
   ]
  },
  {
   "cell_type": "code",
   "execution_count": 7,
   "metadata": {},
   "outputs": [],
   "source": [
    "import torch\n",
    "data = torch.tensor(encode(text), dtype=torch.long)"
   ]
  },
  {
   "cell_type": "code",
   "execution_count": 8,
   "metadata": {},
   "outputs": [
    {
     "name": "stdout",
     "output_type": "stream",
     "text": [
      "torch.Size([1115394]) torch.int64\n",
      "tensor([18, 47, 56, 57, 58,  1, 15, 47, 58, 47, 64, 43, 52, 10,  0, 14, 43, 44,\n",
      "        53, 56, 43,  1, 61, 43,  1, 54, 56, 53, 41, 43, 43, 42,  1, 39, 52, 63,\n",
      "         1, 44, 59, 56, 58, 46, 43, 56,  6,  1, 46, 43, 39, 56,  1, 51, 43,  1,\n",
      "        57, 54, 43, 39, 49,  8,  0,  0, 13, 50, 50, 10,  0, 31, 54, 43, 39, 49,\n",
      "         6,  1, 57, 54, 43, 39, 49,  8,  0,  0, 18, 47, 56, 57, 58,  1, 15, 47,\n",
      "        58, 47, 64, 43, 52, 10,  0, 37, 53, 59])\n"
     ]
    }
   ],
   "source": [
    "print(data.shape, data.dtype)\n",
    "print(data[:100])"
   ]
  },
  {
   "cell_type": "code",
   "execution_count": 9,
   "metadata": {},
   "outputs": [],
   "source": [
    "split = int(len(data) * 0.9)\n",
    "train_data = data[:split]\n",
    "val_data = data[split:]"
   ]
  },
  {
   "cell_type": "code",
   "execution_count": 10,
   "metadata": {},
   "outputs": [
    {
     "name": "stdout",
     "output_type": "stream",
     "text": [
      "x:  tensor([18, 47, 56, 57, 58,  1, 15, 47])\n",
      "y:  tensor([47, 56, 57, 58,  1, 15, 47, 58])\n",
      "with target 47 context tensor([18])\n",
      "with target 56 context tensor([18, 47])\n",
      "with target 57 context tensor([18, 47, 56])\n",
      "with target 58 context tensor([18, 47, 56, 57])\n",
      "with target 1 context tensor([18, 47, 56, 57, 58])\n",
      "with target 15 context tensor([18, 47, 56, 57, 58,  1])\n",
      "with target 47 context tensor([18, 47, 56, 57, 58,  1, 15])\n",
      "with target 58 context tensor([18, 47, 56, 57, 58,  1, 15, 47])\n"
     ]
    }
   ],
   "source": [
    "block_size = 8\n",
    "x = train_data[:block_size]\n",
    "y = train_data[1:block_size+1]\n",
    "print(\"x: \", x)\n",
    "print(\"y: \", y)\n",
    "for n in range(block_size):\n",
    "    target = y[n]\n",
    "    context = x[:n+1]\n",
    "\n",
    "    print(\"with target {} context {}\".format(target, context))"
   ]
  },
  {
   "cell_type": "code",
   "execution_count": null,
   "metadata": {},
   "outputs": [],
   "source": [
    "torch.manual_seed(1234)\n",
    "batch_size = 4 # number of samples / batch\n",
    "block_size = 8 # max context for prediction"
   ]
  },
  {
   "cell_type": "code",
   "execution_count": 11,
   "metadata": {},
   "outputs": [],
   "source": [
    "def get_batch(split):\n",
    "    # grab a batch of data x,y\n",
    "    data = train_data if split == 'train' else val_data\n",
    "    ix = torch.randint(len(data) - block_size, (batch_size,))\n",
    "    x = torch.stack([data[i:i+block_size] for i in ix])\n",
    "    y = torch.stack([data[i+1:i+block_size+1] for i in ix])\n",
    "    return x,y"
   ]
  },
  {
   "cell_type": "code",
   "execution_count": 12,
   "metadata": {},
   "outputs": [
    {
     "name": "stdout",
     "output_type": "stream",
     "text": [
      "inputs:\n",
      " tensor([[51, 59, 57, 58,  1, 39, 61, 39],\n",
      "        [63,  6,  1, 61, 46, 53,  5, 57],\n",
      "        [39,  1, 41, 46, 47, 50, 42, 10],\n",
      "        [53, 59, 10,  0, 37, 53, 59,  1]])\n",
      "targets:\n",
      " tensor([[59, 57, 58,  1, 39, 61, 39, 63],\n",
      "        [ 6,  1, 61, 46, 53,  5, 57,  1],\n",
      "        [ 1, 41, 46, 47, 50, 42, 10,  0],\n",
      "        [59, 10,  0, 37, 53, 59,  1, 57]])\n"
     ]
    }
   ],
   "source": [
    "xb, yb = get_batch('train')\n",
    "print('inputs:\\n', xb)\n",
    "print('targets:\\n', yb)"
   ]
  },
  {
   "cell_type": "code",
   "execution_count": 13,
   "metadata": {},
   "outputs": [
    {
     "name": "stdout",
     "output_type": "stream",
     "text": [
      "when  the target: 59 input is [51]\n",
      "when  the target: 57 input is [51, 59]\n",
      "when  the target: 58 input is [51, 59, 57]\n",
      "when  the target: 1 input is [51, 59, 57, 58]\n",
      "when  the target: 39 input is [51, 59, 57, 58, 1]\n",
      "when  the target: 61 input is [51, 59, 57, 58, 1, 39]\n",
      "when  the target: 39 input is [51, 59, 57, 58, 1, 39, 61]\n",
      "when  the target: 63 input is [51, 59, 57, 58, 1, 39, 61, 39]\n",
      "when  the target: 6 input is [63]\n",
      "when  the target: 1 input is [63, 6]\n",
      "when  the target: 61 input is [63, 6, 1]\n",
      "when  the target: 46 input is [63, 6, 1, 61]\n",
      "when  the target: 53 input is [63, 6, 1, 61, 46]\n",
      "when  the target: 5 input is [63, 6, 1, 61, 46, 53]\n",
      "when  the target: 57 input is [63, 6, 1, 61, 46, 53, 5]\n",
      "when  the target: 1 input is [63, 6, 1, 61, 46, 53, 5, 57]\n",
      "when  the target: 1 input is [39]\n",
      "when  the target: 41 input is [39, 1]\n",
      "when  the target: 46 input is [39, 1, 41]\n",
      "when  the target: 47 input is [39, 1, 41, 46]\n",
      "when  the target: 50 input is [39, 1, 41, 46, 47]\n",
      "when  the target: 42 input is [39, 1, 41, 46, 47, 50]\n",
      "when  the target: 10 input is [39, 1, 41, 46, 47, 50, 42]\n",
      "when  the target: 0 input is [39, 1, 41, 46, 47, 50, 42, 10]\n",
      "when  the target: 59 input is [53]\n",
      "when  the target: 10 input is [53, 59]\n",
      "when  the target: 0 input is [53, 59, 10]\n",
      "when  the target: 37 input is [53, 59, 10, 0]\n",
      "when  the target: 53 input is [53, 59, 10, 0, 37]\n",
      "when  the target: 59 input is [53, 59, 10, 0, 37, 53]\n",
      "when  the target: 1 input is [53, 59, 10, 0, 37, 53, 59]\n",
      "when  the target: 57 input is [53, 59, 10, 0, 37, 53, 59, 1]\n"
     ]
    }
   ],
   "source": [
    "for b in range(batch_size):\n",
    "    for t in range(block_size):\n",
    "        context = xb[b, :t+1]\n",
    "        target = yb[b,t]\n",
    "        print(f\"when  the target: {target} input is {context.tolist()}\")"
   ]
  },
  {
   "cell_type": "code",
   "execution_count": 14,
   "metadata": {},
   "outputs": [],
   "source": [
    "import torch\n",
    "import torch.nn as nn\n",
    "from torch.nn import functional as F\n",
    "\n",
    "class BigramLanguageModel(nn.Module):\n",
    "\n",
    "    def __init__(self, vocab_size):\n",
    "        super().__init__()\n",
    "        # each token directly reads off thelogits from a lookup table\n",
    "        self.token_embedding_table = nn.Embedding(vocab_size, vocab_size)\n",
    "\n",
    "    def forward(self, idx, targets=None):\n",
    "\n",
    "        # idx and targets are both (B,T) tensor of integers\n",
    "        logits = self.token_embedding_table(idx) # (B,T,C)\n",
    "        if targets is None:\n",
    "            loss = None\n",
    "        else:\n",
    "            B, T, C, = logits.shape         \n",
    "            logits = logits.view(B*T, C)\n",
    "            targets = targets.view(B*T)\n",
    "            loss = F.cross_entropy(logits, targets)\n",
    "\n",
    "        return logits, loss\n",
    "    \n",
    "    def generate(self, idx, max_new_tokens):\n",
    "\n",
    "        # idx is (B, T) array of indices in the current context\n",
    "        for n in range(max_new_tokens):\n",
    "            # get the predictions\n",
    "            logits, loss = self.forward(idx)\n",
    "            # focus only on the last time step\n",
    "            logits = logits[:, -1, :] # becomes (B, C)\n",
    "            #apply softmax to get probabilities\n",
    "            probs = F.softmax(logits, dim=-1) # (B, c)\n",
    "            # sample from the distribution\n",
    "            idx_next = torch.multinomial(probs, num_samples=1) #(B, 1)\n",
    "            idx = torch.cat((idx, idx_next), dim=1) #B, T+1)\n",
    "\n",
    "        return idx\n",
    "    "
   ]
  },
  {
   "cell_type": "code",
   "execution_count": 15,
   "metadata": {},
   "outputs": [
    {
     "name": "stdout",
     "output_type": "stream",
     "text": [
      "logits.shape torch.Size([4, 8, 65])\n",
      "loss None\n"
     ]
    }
   ],
   "source": [
    "# x only\n",
    "m = BigramLanguageModel(vocab_size)\n",
    "logits, loss = m(xb)\n",
    "print(f\"logits.shape {logits.shape}\")\n",
    "print(f\"loss {loss}\")"
   ]
  },
  {
   "cell_type": "code",
   "execution_count": 16,
   "metadata": {},
   "outputs": [
    {
     "name": "stdout",
     "output_type": "stream",
     "text": [
      "logits.shape torch.Size([32, 65])\n",
      "loss 4.952663898468018\n"
     ]
    }
   ],
   "source": [
    "# x and y\n",
    "m = BigramLanguageModel(vocab_size)\n",
    "logits, loss = m(xb, yb)\n",
    "print(f\"logits.shape {logits.shape}\")\n",
    "print(f\"loss {loss}\")"
   ]
  },
  {
   "cell_type": "code",
   "execution_count": 25,
   "metadata": {},
   "outputs": [
    {
     "data": {
      "text/plain": [
       "\" sEPsGuvG?lSY3yzivSyYQnOnXucUYnNRT:lFOe; \\nN.-bpZIEEP&ANjUialFkVC.vaE3enOjqM:KdXA D:aumA$Ehr L.v$$uiGQQxwsKCCKdLKKBsiJq$VB 'hDq\\ndF:ODKeYtm:-eCw VG\\nZZsHPnDOp-RVNqvGRh'Ip bTxIEzIElpPPlo&:-oknw bCgPw.VIblvaLdYio3W UQ3mXclDPF\\n?N$FFyGn;Lge$PUTJWEC;ZY.yye$-uptZINYQWU&B\\nK3R$Pnj;Qa3!lFyZcx:bYuVvZ?N.YmNT:M:icL\""
      ]
     },
     "execution_count": 25,
     "metadata": {},
     "output_type": "execute_result"
    }
   ],
   "source": [
    "m = BigramLanguageModel(vocab_size)\n",
    "idx = torch.ones((4,1), dtype=torch.long)\n",
    "nextchars = m.generate(idx, max_new_tokens=300)\n",
    "nextchar = nextchars[0].tolist()\n",
    "decode(nextchar)"
   ]
  },
  {
   "cell_type": "code",
   "execution_count": 26,
   "metadata": {},
   "outputs": [],
   "source": [
    "# create optimizer\n",
    "optimizer = torch.optim.AdamW(m.parameters(), lr=1e-3)"
   ]
  },
  {
   "cell_type": "code",
   "execution_count": 27,
   "metadata": {},
   "outputs": [
    {
     "name": "stdout",
     "output_type": "stream",
     "text": [
      "2.4813098907470703\n"
     ]
    }
   ],
   "source": [
    "batch_size = 32 # number of samples / batch\n",
    "\n",
    "for steps in range(10000):\n",
    "\n",
    "    # sample batch of data\n",
    "    xb, yb = get_batch('train')\n",
    "\n",
    "    # evaluate loss\n",
    "    logits, loss = m(xb, yb)\n",
    "    optimizer.zero_grad(set_to_none=True)\n",
    "    loss.backward()\n",
    "    optimizer.step()\n",
    "\n",
    "print(loss.item())\n"
   ]
  },
  {
   "cell_type": "code",
   "execution_count": 29,
   "metadata": {},
   "outputs": [
    {
     "data": {
      "text/plain": [
       "\" is, asher-qPoothan:\\nF Cl.\\nETevear paug CI nd?\\nEThas thtewoy femprd at ar.\\n\\nWhwho, wr se, aleldouled brne, ETor R:\\nThasprs h nd a l ie.\\n\\nPEd tou alou uit!\\nPAPAn lled h OMy 'e ikiee w bs shes, nce? mesthankir ar no thit de, gr tinough\\nI cthit w,\\n\\nDUMais,\\nShe cthodoreth,\\nYoeieen we ty, mat averck?\\nDubanverivend,\\nIO:\\nNE lvGof br nctallrsir sat merm. n? I thard wihingse te sesthyod ontiustre-sthe y ili\""
      ]
     },
     "execution_count": 29,
     "metadata": {},
     "output_type": "execute_result"
    }
   ],
   "source": [
    "idx = torch.ones((4,1), dtype=torch.long)\n",
    "nextchars = m.generate(idx, max_new_tokens=400)\n",
    "nextchar = nextchars[0].tolist()\n",
    "decode(nextchar)"
   ]
  },
  {
   "cell_type": "code",
   "execution_count": null,
   "metadata": {},
   "outputs": [],
   "source": []
  }
 ],
 "metadata": {
  "kernelspec": {
   "display_name": "base",
   "language": "python",
   "name": "python3"
  },
  "language_info": {
   "codemirror_mode": {
    "name": "ipython",
    "version": 3
   },
   "file_extension": ".py",
   "mimetype": "text/x-python",
   "name": "python",
   "nbconvert_exporter": "python",
   "pygments_lexer": "ipython3",
   "version": "3.9.15"
  },
  "orig_nbformat": 4
 },
 "nbformat": 4,
 "nbformat_minor": 2
}
